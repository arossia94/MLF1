{
 "cells": [
  {
   "cell_type": "markdown",
   "metadata": {},
   "source": [
    "Import packages"
   ]
  },
  {
   "cell_type": "code",
   "execution_count": 36,
   "metadata": {},
   "outputs": [],
   "source": [
    "import pandas as pd \n",
    "import numpy as np \n",
    "from keras.models import Sequential\n",
    "from keras.layers import Dense\n",
    "from sklearn.model_selection import train_test_split\n",
    "import matplotlib.pyplot as plt\n",
    "%matplotlib inline"
   ]
  },
  {
   "cell_type": "markdown",
   "metadata": {},
   "source": [
    "Import dataset and select x and y data"
   ]
  },
  {
   "cell_type": "code",
   "execution_count": 2,
   "metadata": {},
   "outputs": [],
   "source": [
    "dataset=pd.read_csv('./data/driver_clean_data.csv')"
   ]
  },
  {
   "cell_type": "markdown",
   "metadata": {},
   "source": [
    "We will first select all the possible data that we might consider as input data. Then, we will try different networks with different subsets of this big X vector."
   ]
  },
  {
   "cell_type": "code",
   "execution_count": 8,
   "metadata": {},
   "outputs": [],
   "source": [
    "Xall = dataset[['Year','RaceResults','GridPos','QualiRes','NumRaces','AvgFinalPos','StdDevFinalPos','MedianFinalPos','AvgStartPos','StdDevStartPos','MedianStartPos']]\n",
    "y = dataset['Championship Position']"
   ]
  },
  {
   "cell_type": "code",
   "execution_count": 12,
   "metadata": {},
   "outputs": [],
   "source": [
    "#Split in train and test datasets\n",
    "Xall_train, Xall_test, y_train, y_test = train_test_split(Xall, y, random_state=111,test_size=0.3,shuffle=True)"
   ]
  },
  {
   "cell_type": "code",
   "execution_count": 13,
   "metadata": {},
   "outputs": [
    {
     "data": {
      "text/html": [
       "<div>\n",
       "<style scoped>\n",
       "    .dataframe tbody tr th:only-of-type {\n",
       "        vertical-align: middle;\n",
       "    }\n",
       "\n",
       "    .dataframe tbody tr th {\n",
       "        vertical-align: top;\n",
       "    }\n",
       "\n",
       "    .dataframe thead th {\n",
       "        text-align: right;\n",
       "    }\n",
       "</style>\n",
       "<table border=\"1\" class=\"dataframe\">\n",
       "  <thead>\n",
       "    <tr style=\"text-align: right;\">\n",
       "      <th></th>\n",
       "      <th>AvgFinalPos</th>\n",
       "      <th>StdDevFinalPos</th>\n",
       "    </tr>\n",
       "  </thead>\n",
       "  <tbody>\n",
       "    <tr>\n",
       "      <th>59</th>\n",
       "      <td>8.500000</td>\n",
       "      <td>8.817596</td>\n",
       "    </tr>\n",
       "    <tr>\n",
       "      <th>664</th>\n",
       "      <td>7.421053</td>\n",
       "      <td>5.696867</td>\n",
       "    </tr>\n",
       "    <tr>\n",
       "      <th>757</th>\n",
       "      <td>12.250000</td>\n",
       "      <td>3.973349</td>\n",
       "    </tr>\n",
       "    <tr>\n",
       "      <th>573</th>\n",
       "      <td>14.947368</td>\n",
       "      <td>6.108438</td>\n",
       "    </tr>\n",
       "    <tr>\n",
       "      <th>487</th>\n",
       "      <td>15.055556</td>\n",
       "      <td>5.512332</td>\n",
       "    </tr>\n",
       "  </tbody>\n",
       "</table>\n",
       "</div>"
      ],
      "text/plain": [
       "     AvgFinalPos  StdDevFinalPos\n",
       "59      8.500000        8.817596\n",
       "664     7.421053        5.696867\n",
       "757    12.250000        3.973349\n",
       "573    14.947368        6.108438\n",
       "487    15.055556        5.512332"
      ]
     },
     "execution_count": 13,
     "metadata": {},
     "output_type": "execute_result"
    }
   ],
   "source": [
    "Xall_train[['AvgFinalPos','StdDevFinalPos']].head()"
   ]
  },
  {
   "cell_type": "code",
   "execution_count": 21,
   "metadata": {},
   "outputs": [
    {
     "data": {
      "text/plain": [
       "46"
      ]
     },
     "execution_count": 21,
     "metadata": {},
     "output_type": "execute_result"
    }
   ],
   "source": [
    "dataset['Championship Position'].max()"
   ]
  },
  {
   "cell_type": "markdown",
   "metadata": {},
   "source": [
    "Since all the input and output values have similar size and there is no more than an order of magnitude of difference between minimum and maximum, there is no need to normalize the values."
   ]
  },
  {
   "cell_type": "markdown",
   "metadata": {},
   "source": [
    "Now, I will construct different models with different inputs to compare their predictive power.\n",
    "They will all use dense layers. I will also test different hyperparameter configurations.\n",
    "The output  will not be hardcoded, i.e. the last layer will give a number between 1 and 46, which is the maximum Championship position found in the dataset."
   ]
  },
  {
   "cell_type": "markdown",
   "metadata": {},
   "source": [
    "Model 1: Final position average and standard deviation as input"
   ]
  },
  {
   "cell_type": "markdown",
   "metadata": {},
   "source": [
    "Define model architecture"
   ]
  },
  {
   "cell_type": "code",
   "execution_count": 30,
   "metadata": {},
   "outputs": [
    {
     "name": "stdout",
     "output_type": "stream",
     "text": [
      "WARNING:tensorflow:From c:\\Users\\a95826ar.DS\\AppData\\Local\\Programs\\Python\\Python310\\lib\\site-packages\\keras\\src\\backend.py:873: The name tf.get_default_graph is deprecated. Please use tf.compat.v1.get_default_graph instead.\n",
      "\n"
     ]
    }
   ],
   "source": [
    "model1=Sequential()\n",
    "model1.add(Dense(10,activation='relu',input_shape=(2,)))\n",
    "model1.add(Dense(20,activation='relu'))\n",
    "model1.add(Dense(10,activation='relu'))\n",
    "model1.add(Dense(1,activation='linear'))"
   ]
  },
  {
   "cell_type": "markdown",
   "metadata": {},
   "source": [
    "Compile model and show summary"
   ]
  },
  {
   "cell_type": "code",
   "execution_count": 31,
   "metadata": {},
   "outputs": [
    {
     "name": "stdout",
     "output_type": "stream",
     "text": [
      "WARNING:tensorflow:From c:\\Users\\a95826ar.DS\\AppData\\Local\\Programs\\Python\\Python310\\lib\\site-packages\\keras\\src\\optimizers\\__init__.py:309: The name tf.train.Optimizer is deprecated. Please use tf.compat.v1.train.Optimizer instead.\n",
      "\n"
     ]
    }
   ],
   "source": [
    "model1.compile(optimizer='adam',loss='mean_squared_error',metrics=['accuracy'])"
   ]
  },
  {
   "cell_type": "code",
   "execution_count": 33,
   "metadata": {},
   "outputs": [
    {
     "name": "stdout",
     "output_type": "stream",
     "text": [
      "Model: \"sequential\"\n",
      "_________________________________________________________________\n",
      " Layer (type)                Output Shape              Param #   \n",
      "=================================================================\n",
      " dense (Dense)               (None, 10)                30        \n",
      "                                                                 \n",
      " dense_1 (Dense)             (None, 20)                220       \n",
      "                                                                 \n",
      " dense_2 (Dense)             (None, 10)                210       \n",
      "                                                                 \n",
      " dense_3 (Dense)             (None, 1)                 11        \n",
      "                                                                 \n",
      "=================================================================\n",
      "Total params: 471 (1.84 KB)\n",
      "Trainable params: 471 (1.84 KB)\n",
      "Non-trainable params: 0 (0.00 Byte)\n",
      "_________________________________________________________________\n"
     ]
    }
   ],
   "source": [
    "model1.summary()"
   ]
  },
  {
   "cell_type": "markdown",
   "metadata": {},
   "source": [
    "Select data"
   ]
  },
  {
   "cell_type": "code",
   "execution_count": 27,
   "metadata": {},
   "outputs": [],
   "source": [
    "xmod1_train=np.float32(Xall_train[['AvgFinalPos','StdDevFinalPos']].values)\n",
    "xmod1_test=np.float32(Xall_test[['AvgFinalPos','StdDevFinalPos']].values)\n",
    "ymod_train=np.float32(y_train.values)\n",
    "ymod_test=np.float32(y_test.values)"
   ]
  },
  {
   "cell_type": "code",
   "execution_count": 29,
   "metadata": {},
   "outputs": [
    {
     "name": "stdout",
     "output_type": "stream",
     "text": [
      "(592, 2)\n",
      "(592,)\n",
      "(255, 2)\n",
      "(255,)\n"
     ]
    }
   ],
   "source": [
    "print(xmod1_train.shape)\n",
    "print(ymod_train.shape)\n",
    "print(xmod1_test.shape)\n",
    "print(ymod_test.shape)"
   ]
  },
  {
   "cell_type": "markdown",
   "metadata": {},
   "source": [
    "Train model"
   ]
  },
  {
   "cell_type": "code",
   "execution_count": 35,
   "metadata": {},
   "outputs": [
    {
     "name": "stdout",
     "output_type": "stream",
     "text": [
      "Epoch 1/30\n",
      "19/19 [==============================] - 0s 7ms/step - loss: 190.8109 - accuracy: 0.0338 - val_loss: 180.4364 - val_accuracy: 0.0471\n",
      "Epoch 2/30\n",
      "19/19 [==============================] - 0s 3ms/step - loss: 146.9350 - accuracy: 0.0338 - val_loss: 128.4280 - val_accuracy: 0.0471\n",
      "Epoch 3/30\n",
      "19/19 [==============================] - 0s 3ms/step - loss: 98.4581 - accuracy: 0.0338 - val_loss: 76.6613 - val_accuracy: 0.0471\n",
      "Epoch 4/30\n",
      "19/19 [==============================] - 0s 3ms/step - loss: 55.3526 - accuracy: 0.0338 - val_loss: 37.7778 - val_accuracy: 0.0471\n",
      "Epoch 5/30\n",
      "19/19 [==============================] - 0s 3ms/step - loss: 29.1700 - accuracy: 0.0338 - val_loss: 23.3961 - val_accuracy: 0.0471\n",
      "Epoch 6/30\n",
      "19/19 [==============================] - 0s 3ms/step - loss: 21.8317 - accuracy: 0.0338 - val_loss: 21.9493 - val_accuracy: 0.0471\n",
      "Epoch 7/30\n",
      "19/19 [==============================] - 0s 3ms/step - loss: 21.1980 - accuracy: 0.0338 - val_loss: 21.4952 - val_accuracy: 0.0471\n",
      "Epoch 8/30\n",
      "19/19 [==============================] - 0s 3ms/step - loss: 20.5597 - accuracy: 0.0338 - val_loss: 20.6927 - val_accuracy: 0.0471\n",
      "Epoch 9/30\n",
      "19/19 [==============================] - 0s 3ms/step - loss: 19.8640 - accuracy: 0.0338 - val_loss: 20.1340 - val_accuracy: 0.0471\n",
      "Epoch 10/30\n",
      "19/19 [==============================] - 0s 3ms/step - loss: 19.0360 - accuracy: 0.0338 - val_loss: 19.3019 - val_accuracy: 0.0471\n",
      "Epoch 11/30\n",
      "19/19 [==============================] - 0s 3ms/step - loss: 17.7159 - accuracy: 0.0338 - val_loss: 18.0518 - val_accuracy: 0.0471\n",
      "Epoch 12/30\n",
      "19/19 [==============================] - 0s 3ms/step - loss: 16.3376 - accuracy: 0.0338 - val_loss: 17.1526 - val_accuracy: 0.0471\n",
      "Epoch 13/30\n",
      "19/19 [==============================] - 0s 3ms/step - loss: 15.5297 - accuracy: 0.0338 - val_loss: 17.2312 - val_accuracy: 0.0471\n",
      "Epoch 14/30\n",
      "19/19 [==============================] - 0s 3ms/step - loss: 15.0501 - accuracy: 0.0338 - val_loss: 16.9081 - val_accuracy: 0.0471\n",
      "Epoch 15/30\n",
      "19/19 [==============================] - 0s 3ms/step - loss: 14.8011 - accuracy: 0.0338 - val_loss: 16.9370 - val_accuracy: 0.0471\n",
      "Epoch 16/30\n",
      "19/19 [==============================] - 0s 3ms/step - loss: 14.5539 - accuracy: 0.0338 - val_loss: 16.7815 - val_accuracy: 0.0471\n",
      "Epoch 17/30\n",
      "19/19 [==============================] - 0s 3ms/step - loss: 14.3978 - accuracy: 0.0338 - val_loss: 16.9197 - val_accuracy: 0.0471\n",
      "Epoch 18/30\n",
      "19/19 [==============================] - 0s 3ms/step - loss: 14.2696 - accuracy: 0.0338 - val_loss: 16.9076 - val_accuracy: 0.0471\n",
      "Epoch 19/30\n",
      "19/19 [==============================] - 0s 3ms/step - loss: 14.1818 - accuracy: 0.0338 - val_loss: 16.6908 - val_accuracy: 0.0471\n",
      "Epoch 20/30\n",
      "19/19 [==============================] - 0s 3ms/step - loss: 14.1269 - accuracy: 0.0338 - val_loss: 16.9240 - val_accuracy: 0.0471\n",
      "Epoch 21/30\n",
      "19/19 [==============================] - 0s 3ms/step - loss: 14.1532 - accuracy: 0.0338 - val_loss: 16.9144 - val_accuracy: 0.0471\n",
      "Epoch 22/30\n",
      "19/19 [==============================] - 0s 3ms/step - loss: 14.1468 - accuracy: 0.0338 - val_loss: 16.8200 - val_accuracy: 0.0471\n",
      "Epoch 23/30\n",
      "19/19 [==============================] - 0s 3ms/step - loss: 14.0862 - accuracy: 0.0338 - val_loss: 16.7273 - val_accuracy: 0.0471\n",
      "Epoch 24/30\n",
      "19/19 [==============================] - 0s 3ms/step - loss: 14.0383 - accuracy: 0.0338 - val_loss: 16.7249 - val_accuracy: 0.0471\n",
      "Epoch 25/30\n",
      "19/19 [==============================] - 0s 3ms/step - loss: 14.0907 - accuracy: 0.0338 - val_loss: 17.0073 - val_accuracy: 0.0471\n",
      "Epoch 26/30\n",
      "19/19 [==============================] - 0s 5ms/step - loss: 14.0860 - accuracy: 0.0338 - val_loss: 16.6101 - val_accuracy: 0.0471\n",
      "Epoch 27/30\n",
      "19/19 [==============================] - 0s 3ms/step - loss: 14.0792 - accuracy: 0.0338 - val_loss: 17.3157 - val_accuracy: 0.0471\n",
      "Epoch 28/30\n",
      "19/19 [==============================] - 0s 3ms/step - loss: 14.0045 - accuracy: 0.0338 - val_loss: 16.7198 - val_accuracy: 0.0471\n",
      "Epoch 29/30\n",
      "19/19 [==============================] - 0s 3ms/step - loss: 14.0108 - accuracy: 0.0338 - val_loss: 16.8378 - val_accuracy: 0.0471\n",
      "Epoch 30/30\n",
      "19/19 [==============================] - 0s 3ms/step - loss: 14.0916 - accuracy: 0.0338 - val_loss: 17.1730 - val_accuracy: 0.0471\n"
     ]
    }
   ],
   "source": [
    "histo1=model1.fit(xmod1_train,ymod_train,epochs=30,validation_data=(xmod1_test,ymod_test))"
   ]
  },
  {
   "cell_type": "code",
   "execution_count": 38,
   "metadata": {},
   "outputs": [
    {
     "data": {
      "text/plain": [
       "[<matplotlib.lines.Line2D at 0x1ba034f5f30>]"
      ]
     },
     "execution_count": 38,
     "metadata": {},
     "output_type": "execute_result"
    },
    {
     "data": {
      "image/png": "[encoded data removed]",
      "text/plain": [
       "<Figure size 432x288 with 1 Axes>"
      ]
     },
     "metadata": {
      "needs_background": "light"
     },
     "output_type": "display_data"
    }
   ],
   "source": [
    "plt.plot(histo1.history['loss'])"
   ]
  },
  {
   "cell_type": "code",
   "execution_count": 46,
   "metadata": {},
   "outputs": [
    {
     "name": "stdout",
     "output_type": "stream",
     "text": [
      "1/1 [==============================] - 0s 50ms/step\n"
     ]
    },
    {
     "data": {
      "text/plain": [
       "array([[15.46768 ],\n",
       "       [14.139608],\n",
       "       [ 6.379131]], dtype=float32)"
      ]
     },
     "execution_count": 46,
     "metadata": {},
     "output_type": "execute_result"
    }
   ],
   "source": [
    "model1.predict(xmod1_test[:3])"
   ]
  },
  {
   "cell_type": "code",
   "execution_count": 47,
   "metadata": {},
   "outputs": [
    {
     "data": {
      "text/plain": [
       "array([16., 18.,  7.], dtype=float32)"
      ]
     },
     "execution_count": 47,
     "metadata": {},
     "output_type": "execute_result"
    }
   ],
   "source": [
    "ymod_test[:3]"
   ]
  },
  {
   "cell_type": "code",
   "execution_count": null,
   "metadata": {},
   "outputs": [],
   "source": []
  }
 ],
 "metadata": {
  "kernelspec": {
   "display_name": "Python 3",
   "language": "python",
   "name": "python3"
  },
  "language_info": {
   "codemirror_mode": {
    "name": "ipython",
    "version": 3
   },
   "file_extension": ".py",
   "mimetype": "text/x-python",
   "name": "python",
   "nbconvert_exporter": "python",
   "pygments_lexer": "ipython3",
   "version": "3.10.6"
  }
 },
 "nbformat": 4,
 "nbformat_minor": 2
}
