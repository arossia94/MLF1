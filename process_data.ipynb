{
 "cells": [
  {
   "cell_type": "code",
   "execution_count": null,
   "metadata": {},
   "outputs": [],
   "source": [
    "# Notebook to preprocess the datasets and create new datasets required for the analysis.\n",
    "# import required packages\n",
    "import numpy as np\n",
    "import pandas as pd\n",
    "\n",
    "drivers=pd.read_csv('.//data//drivers.csv')\n",
    "drivers.head()\n",
    "\n",
    "champresults=pd.read_csv('.//data//driver_standings.csv')\n",
    "qualiresults=pd.read_csv('.//data//qualifying.csv')\n",
    "raceresults=pd.read_csv('.//data//races.csv')"
   ]
  }
 ],
 "metadata": {
  "language_info": {
   "name": "python"
  }
 },
 "nbformat": 4,
 "nbformat_minor": 2
}
