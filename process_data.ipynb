{
 "cells": [
  {
   "cell_type": "code",
   "execution_count": 126,
   "metadata": {},
   "outputs": [],
   "source": [
    "# Notebook to preprocess the datasets and create new datasets required for the analysis.\n",
    "# import required packages\n",
    "import numpy as np\n",
    "import pandas as pd\n",
    "\n",
    "drivers=pd.read_csv('.//data//drivers.csv')\n",
    "champresults=pd.read_csv('.//data//driver_standings.csv')\n",
    "qualiresults=pd.read_csv('.//data//qualifying.csv')\n",
    "racedata=pd.read_csv('.//data//races.csv')\n",
    "raceresults=pd.read_csv('.//data//results.csv')"
   ]
  },
  {
   "cell_type": "markdown",
   "metadata": {},
   "source": [
    "Build array with the raceId of the first and last race each year."
   ]
  },
  {
   "cell_type": "code",
   "execution_count": 127,
   "metadata": {},
   "outputs": [],
   "source": [
    "racedataPerYear=racedata.groupby('year')\n",
    "listracesperyear=[racedataPerYear.get_group(x) for x in racedataPerYear.groups]\n",
    "raceIdyearSplitter=np.array([[x['year'].min(), x['raceId'].min(), x['raceId'].max()] for x in listracesperyear ])\n",
    "#Convert the previous list to a dictionary for easier access in later steps\n",
    "raceIdyearDictio={'{}'.format(x[0]):x[1:] for i, x in enumerate(raceIdyearSplitter)}"
   ]
  },
  {
   "cell_type": "markdown",
   "metadata": {},
   "source": [
    "Select a year from which we will start considering the results and then build an array with each driver in each year. If a driver competed several years, they will appear several times since each competed season will be a different data point."
   ]
  },
  {
   "cell_type": "code",
   "execution_count": 128,
   "metadata": {},
   "outputs": [],
   "source": [
    "minYearToConsider=1990\n",
    "i, = np.where( raceIdyearSplitter[:,0] == 1990)\n",
    "data_array=[]\n",
    "for j in range(int(i),len(raceIdyearSplitter[:,0])-2,1): #I exclude the year 2023 due to being incomplete.\n",
    "    for ind, row in champresults[champresults['raceId']==raceIdyearSplitter[j,2]][['driverId','position']].iterrows():\n",
    "        data_array.append([raceIdyearSplitter[j,0], row['driverId'],row['position']])"
   ]
  },
  {
   "cell_type": "markdown",
   "metadata": {},
   "source": [
    "Convert the array to a Pandas DataFrame. This is the basic Data Frame we will use.\n",
    "Now, we will append columns describing the season of each driver in each year: race results, quali results."
   ]
  },
  {
   "cell_type": "code",
   "execution_count": 129,
   "metadata": {},
   "outputs": [],
   "source": [
    "driverData=pd.DataFrame(data_array,columns=['Year','Driver','Championship Position'])"
   ]
  },
  {
   "cell_type": "code",
   "execution_count": 130,
   "metadata": {},
   "outputs": [
    {
     "data": {
      "text/html": [
       "<div>\n",
       "<style scoped>\n",
       "    .dataframe tbody tr th:only-of-type {\n",
       "        vertical-align: middle;\n",
       "    }\n",
       "\n",
       "    .dataframe tbody tr th {\n",
       "        vertical-align: top;\n",
       "    }\n",
       "\n",
       "    .dataframe thead th {\n",
       "        text-align: right;\n",
       "    }\n",
       "</style>\n",
       "<table border=\"1\" class=\"dataframe\">\n",
       "  <thead>\n",
       "    <tr style=\"text-align: right;\">\n",
       "      <th></th>\n",
       "      <th>Year</th>\n",
       "      <th>Driver</th>\n",
       "      <th>Championship Position</th>\n",
       "    </tr>\n",
       "  </thead>\n",
       "  <tbody>\n",
       "    <tr>\n",
       "      <th>0</th>\n",
       "      <td>1990</td>\n",
       "      <td>65</td>\n",
       "      <td>35</td>\n",
       "    </tr>\n",
       "    <tr>\n",
       "      <th>1</th>\n",
       "      <td>1990</td>\n",
       "      <td>152</td>\n",
       "      <td>39</td>\n",
       "    </tr>\n",
       "    <tr>\n",
       "      <th>2</th>\n",
       "      <td>1990</td>\n",
       "      <td>88</td>\n",
       "      <td>12</td>\n",
       "    </tr>\n",
       "    <tr>\n",
       "      <th>3</th>\n",
       "      <td>1990</td>\n",
       "      <td>95</td>\n",
       "      <td>5</td>\n",
       "    </tr>\n",
       "    <tr>\n",
       "      <th>4</th>\n",
       "      <td>1990</td>\n",
       "      <td>77</td>\n",
       "      <td>4</td>\n",
       "    </tr>\n",
       "  </tbody>\n",
       "</table>\n",
       "</div>"
      ],
      "text/plain": [
       "   Year  Driver  Championship Position\n",
       "0  1990      65                     35\n",
       "1  1990     152                     39\n",
       "2  1990      88                     12\n",
       "3  1990      95                      5\n",
       "4  1990      77                      4"
      ]
     },
     "execution_count": 130,
     "metadata": {},
     "output_type": "execute_result"
    }
   ],
   "source": [
    "driverData.head()"
   ]
  },
  {
   "cell_type": "markdown",
   "metadata": {},
   "source": [
    "Generate the column with the race results for each driver in each year.\n",
    "Consider the finishing position without considering whether they completed the race distance or not. This could generate problems with outliers where they finish high enough to score points but didn't complete enough laps"
   ]
  },
  {
   "cell_type": "code",
   "execution_count": 131,
   "metadata": {},
   "outputs": [],
   "source": [
    "driverData=driverData.assign(RaceResults=None)\n",
    "for i, dri in driverData.iterrows():\n",
    "    resdri=raceresults[(raceresults['raceId']>=raceIdyearDictio[str(dri['Year'])][0])*(raceresults['raceId']<=raceIdyearDictio[str(dri['Year'])][1])*(raceresults['driverId']==dri['Driver'])]['positionOrder'].reset_index(drop=True).to_numpy()\n",
    "    driverData.at[i,'RaceResults']=resdri.astype(float)"
   ]
  },
  {
   "cell_type": "code",
   "execution_count": 132,
   "metadata": {},
   "outputs": [
    {
     "data": {
      "text/html": [
       "<div>\n",
       "<style scoped>\n",
       "    .dataframe tbody tr th:only-of-type {\n",
       "        vertical-align: middle;\n",
       "    }\n",
       "\n",
       "    .dataframe tbody tr th {\n",
       "        vertical-align: top;\n",
       "    }\n",
       "\n",
       "    .dataframe thead th {\n",
       "        text-align: right;\n",
       "    }\n",
       "</style>\n",
       "<table border=\"1\" class=\"dataframe\">\n",
       "  <thead>\n",
       "    <tr style=\"text-align: right;\">\n",
       "      <th></th>\n",
       "      <th>Year</th>\n",
       "      <th>Driver</th>\n",
       "      <th>Championship Position</th>\n",
       "      <th>RaceResults</th>\n",
       "    </tr>\n",
       "  </thead>\n",
       "  <tbody>\n",
       "    <tr>\n",
       "      <th>0</th>\n",
       "      <td>1990</td>\n",
       "      <td>65</td>\n",
       "      <td>35</td>\n",
       "      <td>[12.0, 17.0]</td>\n",
       "    </tr>\n",
       "    <tr>\n",
       "      <th>1</th>\n",
       "      <td>1990</td>\n",
       "      <td>152</td>\n",
       "      <td>39</td>\n",
       "      <td>[33.0, 35.0, 35.0, 35.0, 35.0, 35.0, 35.0, 35....</td>\n",
       "    </tr>\n",
       "    <tr>\n",
       "      <th>2</th>\n",
       "      <td>1990</td>\n",
       "      <td>88</td>\n",
       "      <td>12</td>\n",
       "      <td>[16.0, 21.0, 21.0, 21.0, 12.0, 23.0, 7.0, 6.0,...</td>\n",
       "    </tr>\n",
       "    <tr>\n",
       "      <th>3</th>\n",
       "      <td>1990</td>\n",
       "      <td>95</td>\n",
       "      <td>5</td>\n",
       "      <td>[17.0, 4.0, 15.0, 9.0, 3.0, 2.0, 18.0, 15.0, 1...</td>\n",
       "    </tr>\n",
       "    <tr>\n",
       "      <th>4</th>\n",
       "      <td>1990</td>\n",
       "      <td>77</td>\n",
       "      <td>4</td>\n",
       "      <td>[18.0, 2.0, 2.0, 3.0, 4.0, 3.0, 5.0, 14.0, 3.0...</td>\n",
       "    </tr>\n",
       "  </tbody>\n",
       "</table>\n",
       "</div>"
      ],
      "text/plain": [
       "   Year  Driver  Championship Position  \\\n",
       "0  1990      65                     35   \n",
       "1  1990     152                     39   \n",
       "2  1990      88                     12   \n",
       "3  1990      95                      5   \n",
       "4  1990      77                      4   \n",
       "\n",
       "                                         RaceResults  \n",
       "0                                       [12.0, 17.0]  \n",
       "1  [33.0, 35.0, 35.0, 35.0, 35.0, 35.0, 35.0, 35....  \n",
       "2  [16.0, 21.0, 21.0, 21.0, 12.0, 23.0, 7.0, 6.0,...  \n",
       "3  [17.0, 4.0, 15.0, 9.0, 3.0, 2.0, 18.0, 15.0, 1...  \n",
       "4  [18.0, 2.0, 2.0, 3.0, 4.0, 3.0, 5.0, 14.0, 3.0...  "
      ]
     },
     "execution_count": 132,
     "metadata": {},
     "output_type": "execute_result"
    }
   ],
   "source": [
    "driverData.head(5)"
   ]
  },
  {
   "cell_type": "code",
   "execution_count": 133,
   "metadata": {},
   "outputs": [],
   "source": [
    "\n",
    "#For each driver in each season, get a vector with all their race and qualy positions.\n",
    "#The champresults at each final race seems to contain all the drivers that took part in that year.\n",
    "#THe results at initial races contain only the ones that scored points at the beginning."
   ]
  }
 ],
 "metadata": {
  "kernelspec": {
   "display_name": "Python 3",
   "language": "python",
   "name": "python3"
  },
  "language_info": {
   "codemirror_mode": {
    "name": "ipython",
    "version": 3
   },
   "file_extension": ".py",
   "mimetype": "text/x-python",
   "name": "python",
   "nbconvert_exporter": "python",
   "pygments_lexer": "ipython3",
   "version": "3.10.6"
  }
 },
 "nbformat": 4,
 "nbformat_minor": 2
}
