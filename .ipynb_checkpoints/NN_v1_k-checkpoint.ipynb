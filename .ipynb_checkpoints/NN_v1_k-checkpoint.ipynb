{
 "cells": [
  {
   "cell_type": "markdown",
   "metadata": {},
   "source": [
    "# Import packages"
   ]
  },
  {
   "cell_type": "code",
   "execution_count": 1,
   "metadata": {},
   "outputs": [
    {
     "name": "stdout",
     "output_type": "stream",
     "text": [
      "WARNING:tensorflow:From C:\\Users\\a95826ar.DS\\AppData\\Local\\Programs\\Python\\Python310\\lib\\site-packages\\keras\\src\\losses.py:2976: The name tf.losses.sparse_softmax_cross_entropy is deprecated. Please use tf.compat.v1.losses.sparse_softmax_cross_entropy instead.\n",
      "\n"
     ]
    }
   ],
   "source": [
    "import pandas as pd \n",
    "import numpy as np \n",
    "from keras.models import Sequential\n",
    "from keras.layers import Dense\n",
    "from sklearn.model_selection import train_test_split\n",
    "import matplotlib.pyplot as plt\n",
    "%matplotlib inline"
   ]
  },
  {
   "cell_type": "markdown",
   "metadata": {},
   "source": [
    "# Import dataset and select x and y data"
   ]
  },
  {
   "cell_type": "code",
   "execution_count": 2,
   "metadata": {},
   "outputs": [],
   "source": [
    "dataset=pd.read_csv('./data/driver_clean_data.csv')"
   ]
  },
  {
   "cell_type": "markdown",
   "metadata": {},
   "source": [
    "We will first select all the possible data that we might consider as input data. Then, we will try different networks with different subsets of this big X vector."
   ]
  },
  {
   "cell_type": "code",
   "execution_count": 3,
   "metadata": {},
   "outputs": [],
   "source": [
    "Xall = dataset[['Year','RaceResults','GridPos','QualiRes','NumRaces','AvgFinalPos','StdDevFinalPos','MedianFinalPos','AvgStartPos','StdDevStartPos','MedianStartPos']]\n",
    "y = dataset['Championship Position']"
   ]
  },
  {
   "cell_type": "markdown",
   "metadata": {},
   "source": [
    "Split in train and test datasets"
   ]
  },
  {
   "cell_type": "code",
   "execution_count": 4,
   "metadata": {},
   "outputs": [],
   "source": [
    "Xall_train, Xall_test, y_train, y_test = train_test_split(Xall, y, random_state=111,test_size=0.3,shuffle=True)"
   ]
  },
  {
   "cell_type": "code",
   "execution_count": 5,
   "metadata": {},
   "outputs": [
    {
     "data": {
      "text/html": [
       "<div>\n",
       "<style scoped>\n",
       "    .dataframe tbody tr th:only-of-type {\n",
       "        vertical-align: middle;\n",
       "    }\n",
       "\n",
       "    .dataframe tbody tr th {\n",
       "        vertical-align: top;\n",
       "    }\n",
       "\n",
       "    .dataframe thead th {\n",
       "        text-align: right;\n",
       "    }\n",
       "</style>\n",
       "<table border=\"1\" class=\"dataframe\">\n",
       "  <thead>\n",
       "    <tr style=\"text-align: right;\">\n",
       "      <th></th>\n",
       "      <th>AvgFinalPos</th>\n",
       "      <th>StdDevFinalPos</th>\n",
       "    </tr>\n",
       "  </thead>\n",
       "  <tbody>\n",
       "    <tr>\n",
       "      <th>59</th>\n",
       "      <td>8.500000</td>\n",
       "      <td>8.817596</td>\n",
       "    </tr>\n",
       "    <tr>\n",
       "      <th>664</th>\n",
       "      <td>7.421053</td>\n",
       "      <td>5.696867</td>\n",
       "    </tr>\n",
       "    <tr>\n",
       "      <th>757</th>\n",
       "      <td>12.250000</td>\n",
       "      <td>3.973349</td>\n",
       "    </tr>\n",
       "    <tr>\n",
       "      <th>573</th>\n",
       "      <td>14.947368</td>\n",
       "      <td>6.108438</td>\n",
       "    </tr>\n",
       "    <tr>\n",
       "      <th>487</th>\n",
       "      <td>15.055556</td>\n",
       "      <td>5.512332</td>\n",
       "    </tr>\n",
       "  </tbody>\n",
       "</table>\n",
       "</div>"
      ],
      "text/plain": [
       "     AvgFinalPos  StdDevFinalPos\n",
       "59      8.500000        8.817596\n",
       "664     7.421053        5.696867\n",
       "757    12.250000        3.973349\n",
       "573    14.947368        6.108438\n",
       "487    15.055556        5.512332"
      ]
     },
     "execution_count": 5,
     "metadata": {},
     "output_type": "execute_result"
    }
   ],
   "source": [
    "Xall_train[['AvgFinalPos','StdDevFinalPos']].head()"
   ]
  },
  {
   "cell_type": "code",
   "execution_count": 6,
   "metadata": {},
   "outputs": [
    {
     "data": {
      "text/plain": [
       "46"
      ]
     },
     "execution_count": 6,
     "metadata": {},
     "output_type": "execute_result"
    }
   ],
   "source": [
    "dataset['Championship Position'].max()"
   ]
  },
  {
   "cell_type": "markdown",
   "metadata": {},
   "source": [
    "Since all the input and output values have similar size and there is no more than an order of magnitude of difference between minimum and maximum, there is no need to normalize the values."
   ]
  },
  {
   "cell_type": "markdown",
   "metadata": {},
   "source": [
    "# Models"
   ]
  },
  {
   "cell_type": "markdown",
   "metadata": {},
   "source": [
    "Now, I will construct different models with different inputs to compare their predictive power.\n",
    "They will all use dense layers. I will also test different hyperparameter configurations.\n",
    "The output  will not be hardcoded, i.e. the last layer will give a number between 1 and 46, which is the maximum Championship position found in the dataset."
   ]
  },
  {
   "cell_type": "markdown",
   "metadata": {},
   "source": [
    "## Model 1: Final position average and standard deviation as input"
   ]
  },
  {
   "cell_type": "markdown",
   "metadata": {},
   "source": [
    "### Define model architecture"
   ]
  },
  {
   "cell_type": "code",
   "execution_count": 7,
   "metadata": {},
   "outputs": [
    {
     "name": "stdout",
     "output_type": "stream",
     "text": [
      "WARNING:tensorflow:From C:\\Users\\a95826ar.DS\\AppData\\Local\\Programs\\Python\\Python310\\lib\\site-packages\\keras\\src\\backend.py:873: The name tf.get_default_graph is deprecated. Please use tf.compat.v1.get_default_graph instead.\n",
      "\n"
     ]
    }
   ],
   "source": [
    "model1=Sequential()\n",
    "model1.add(Dense(10,activation='relu',input_shape=(2,)))\n",
    "model1.add(Dense(20,activation='relu'))\n",
    "model1.add(Dense(10,activation='relu'))\n",
    "model1.add(Dense(1,activation='linear'))"
   ]
  },
  {
   "cell_type": "markdown",
   "metadata": {},
   "source": [
    "### Compile model and show summary"
   ]
  },
  {
   "cell_type": "code",
   "execution_count": 8,
   "metadata": {},
   "outputs": [
    {
     "name": "stdout",
     "output_type": "stream",
     "text": [
      "WARNING:tensorflow:From C:\\Users\\a95826ar.DS\\AppData\\Local\\Programs\\Python\\Python310\\lib\\site-packages\\keras\\src\\optimizers\\__init__.py:309: The name tf.train.Optimizer is deprecated. Please use tf.compat.v1.train.Optimizer instead.\n",
      "\n"
     ]
    }
   ],
   "source": [
    "model1.compile(optimizer='adam',loss='mean_squared_error',metrics=['accuracy'])"
   ]
  },
  {
   "cell_type": "code",
   "execution_count": 9,
   "metadata": {},
   "outputs": [
    {
     "name": "stdout",
     "output_type": "stream",
     "text": [
      "Model: \"sequential\"\n",
      "_________________________________________________________________\n",
      " Layer (type)                Output Shape              Param #   \n",
      "=================================================================\n",
      " dense (Dense)               (None, 10)                30        \n",
      "                                                                 \n",
      " dense_1 (Dense)             (None, 20)                220       \n",
      "                                                                 \n",
      " dense_2 (Dense)             (None, 10)                210       \n",
      "                                                                 \n",
      " dense_3 (Dense)             (None, 1)                 11        \n",
      "                                                                 \n",
      "=================================================================\n",
      "Total params: 471 (1.84 KB)\n",
      "Trainable params: 471 (1.84 KB)\n",
      "Non-trainable params: 0 (0.00 Byte)\n",
      "_________________________________________________________________\n"
     ]
    }
   ],
   "source": [
    "model1.summary()"
   ]
  },
  {
   "cell_type": "markdown",
   "metadata": {},
   "source": [
    "### Select data"
   ]
  },
  {
   "cell_type": "code",
   "execution_count": 10,
   "metadata": {},
   "outputs": [],
   "source": [
    "xmod1_train=np.float32(Xall_train[['AvgFinalPos','StdDevFinalPos']].values)\n",
    "xmod1_test=np.float32(Xall_test[['AvgFinalPos','StdDevFinalPos']].values)\n",
    "ymod_train=np.float32(y_train.values)\n",
    "ymod_test=np.float32(y_test.values)"
   ]
  },
  {
   "cell_type": "code",
   "execution_count": 11,
   "metadata": {},
   "outputs": [
    {
     "name": "stdout",
     "output_type": "stream",
     "text": [
      "(592, 2)\n",
      "(592,)\n",
      "(255, 2)\n",
      "(255,)\n"
     ]
    }
   ],
   "source": [
    "print(xmod1_train.shape)\n",
    "print(ymod_train.shape)\n",
    "print(xmod1_test.shape)\n",
    "print(ymod_test.shape)"
   ]
  },
  {
   "cell_type": "markdown",
   "metadata": {},
   "source": [
    "### Train model"
   ]
  },
  {
   "cell_type": "code",
   "execution_count": 12,
   "metadata": {},
   "outputs": [
    {
     "name": "stdout",
     "output_type": "stream",
     "text": [
      "Epoch 1/10\n",
      "WARNING:tensorflow:From C:\\Users\\a95826ar.DS\\AppData\\Local\\Programs\\Python\\Python310\\lib\\site-packages\\keras\\src\\utils\\tf_utils.py:492: The name tf.ragged.RaggedTensorValue is deprecated. Please use tf.compat.v1.ragged.RaggedTensorValue instead.\n",
      "\n",
      "WARNING:tensorflow:From C:\\Users\\a95826ar.DS\\AppData\\Local\\Programs\\Python\\Python310\\lib\\site-packages\\keras\\src\\engine\\base_layer_utils.py:384: The name tf.executing_eagerly_outside_functions is deprecated. Please use tf.compat.v1.executing_eagerly_outside_functions instead.\n",
      "\n",
      "19/19 [==============================] - 1s 9ms/step - loss: 258.6527 - accuracy: 0.0051 - val_loss: 222.7406 - val_accuracy: 0.0314\n",
      "Epoch 2/10\n",
      "19/19 [==============================] - 0s 3ms/step - loss: 166.3397 - accuracy: 0.0321 - val_loss: 131.2444 - val_accuracy: 0.0471\n",
      "Epoch 3/10\n",
      "19/19 [==============================] - 0s 3ms/step - loss: 93.9967 - accuracy: 0.0338 - val_loss: 63.1019 - val_accuracy: 0.0471\n",
      "Epoch 4/10\n",
      "19/19 [==============================] - 0s 3ms/step - loss: 44.4842 - accuracy: 0.0338 - val_loss: 28.4412 - val_accuracy: 0.0471\n",
      "Epoch 5/10\n",
      "19/19 [==============================] - 0s 3ms/step - loss: 23.6998 - accuracy: 0.0338 - val_loss: 19.7606 - val_accuracy: 0.0471\n",
      "Epoch 6/10\n",
      "19/19 [==============================] - 0s 3ms/step - loss: 19.3385 - accuracy: 0.0338 - val_loss: 19.7950 - val_accuracy: 0.0471\n",
      "Epoch 7/10\n",
      "19/19 [==============================] - 0s 3ms/step - loss: 18.4998 - accuracy: 0.0338 - val_loss: 19.1091 - val_accuracy: 0.0471\n",
      "Epoch 8/10\n",
      "19/19 [==============================] - 0s 3ms/step - loss: 17.9859 - accuracy: 0.0338 - val_loss: 18.6367 - val_accuracy: 0.0471\n",
      "Epoch 9/10\n",
      "19/19 [==============================] - 0s 3ms/step - loss: 17.4360 - accuracy: 0.0338 - val_loss: 18.3324 - val_accuracy: 0.0471\n",
      "Epoch 10/10\n",
      "19/19 [==============================] - 0s 3ms/step - loss: 16.9638 - accuracy: 0.0338 - val_loss: 18.1335 - val_accuracy: 0.0471\n"
     ]
    }
   ],
   "source": [
    "histo1=model1.fit(xmod1_train,ymod_train,epochs=10,validation_data=(xmod1_test,ymod_test))"
   ]
  },
  {
   "cell_type": "code",
   "execution_count": 24,
   "metadata": {},
   "outputs": [
    {
     "data": {
      "text/plain": [
       "[<matplotlib.lines.Line2D at 0x129642b7d00>]"
      ]
     },
     "execution_count": 24,
     "metadata": {},
     "output_type": "execute_result"
    },
    {
     "data": {
      "image/png": "[encoded data removed]",
      "text/plain": [
       "<Figure size 432x288 with 1 Axes>"
      ]
     },
     "metadata": {
      "needs_background": "light"
     },
     "output_type": "display_data"
    }
   ],
   "source": [
    "plt.plot(histo1.history['loss'])\n",
    "plt.plot(histo1.history['val_loss'])"
   ]
  },
  {
   "cell_type": "code",
   "execution_count": 14,
   "metadata": {},
   "outputs": [
    {
     "name": "stdout",
     "output_type": "stream",
     "text": [
      "1/1 [==============================] - 0s 76ms/step\n"
     ]
    },
    {
     "data": {
      "text/plain": [
       "array([[16.894089 ],\n",
       "       [14.038999 ],\n",
       "       [ 9.4175205]], dtype=float32)"
      ]
     },
     "execution_count": 14,
     "metadata": {},
     "output_type": "execute_result"
    }
   ],
   "source": [
    "model1.predict(xmod1_test[:3])"
   ]
  },
  {
   "cell_type": "code",
   "execution_count": 15,
   "metadata": {},
   "outputs": [
    {
     "data": {
      "text/plain": [
       "array([16., 18.,  7.], dtype=float32)"
      ]
     },
     "execution_count": 15,
     "metadata": {},
     "output_type": "execute_result"
    }
   ],
   "source": [
    "ymod_test[:3]"
   ]
  },
  {
   "cell_type": "markdown",
   "metadata": {},
   "source": [
    "## Model 2: Final position average, standard deviation and median as input"
   ]
  },
  {
   "cell_type": "markdown",
   "metadata": {},
   "source": [
    "### Define model architecture"
   ]
  },
  {
   "cell_type": "code",
   "execution_count": 16,
   "metadata": {},
   "outputs": [],
   "source": [
    "model2=Sequential()\n",
    "model2.add(Dense(10,activation='relu',input_shape=(3,)))\n",
    "model2.add(Dense(20,activation='relu'))\n",
    "model2.add(Dense(10,activation='relu'))\n",
    "model2.add(Dense(1,activation='linear'))"
   ]
  },
  {
   "cell_type": "markdown",
   "metadata": {},
   "source": [
    "### Compile model and show summary"
   ]
  },
  {
   "cell_type": "code",
   "execution_count": 17,
   "metadata": {},
   "outputs": [
    {
     "name": "stdout",
     "output_type": "stream",
     "text": [
      "Model: \"sequential_1\"\n",
      "_________________________________________________________________\n",
      " Layer (type)                Output Shape              Param #   \n",
      "=================================================================\n",
      " dense_4 (Dense)             (None, 10)                40        \n",
      "                                                                 \n",
      " dense_5 (Dense)             (None, 20)                220       \n",
      "                                                                 \n",
      " dense_6 (Dense)             (None, 10)                210       \n",
      "                                                                 \n",
      " dense_7 (Dense)             (None, 1)                 11        \n",
      "                                                                 \n",
      "=================================================================\n",
      "Total params: 481 (1.88 KB)\n",
      "Trainable params: 481 (1.88 KB)\n",
      "Non-trainable params: 0 (0.00 Byte)\n",
      "_________________________________________________________________\n"
     ]
    }
   ],
   "source": [
    "model2.compile(optimizer='adam',loss='mean_squared_error',metrics=['accuracy'])\n",
    "\n",
    "model2.summary()"
   ]
  },
  {
   "cell_type": "markdown",
   "metadata": {},
   "source": [
    "### Select data"
   ]
  },
  {
   "cell_type": "code",
   "execution_count": 19,
   "metadata": {},
   "outputs": [
    {
     "name": "stdout",
     "output_type": "stream",
     "text": [
      "(592, 3)\n",
      "(592,)\n",
      "(255, 3)\n",
      "(255,)\n"
     ]
    }
   ],
   "source": [
    "xmod2_train=np.float32(Xall_train[['AvgFinalPos','StdDevFinalPos','MedianFinalPos']].values)\n",
    "xmod2_test=np.float32(Xall_test[['AvgFinalPos','StdDevFinalPos','MedianFinalPos']].values)\n",
    "ymod_train=np.float32(y_train.values)\n",
    "ymod_test=np.float32(y_test.values)\n",
    "\n",
    "print(xmod2_train.shape)\n",
    "print(ymod_train.shape)\n",
    "print(xmod2_test.shape)\n",
    "print(ymod_test.shape)"
   ]
  },
  {
   "cell_type": "markdown",
   "metadata": {},
   "source": [
    "### Train and evaluate model"
   ]
  },
  {
   "cell_type": "code",
   "execution_count": 20,
   "metadata": {},
   "outputs": [
    {
     "name": "stdout",
     "output_type": "stream",
     "text": [
      "Epoch 1/20\n",
      "19/19 [==============================] - 1s 9ms/step - loss: 212.0776 - accuracy: 0.0338 - val_loss: 189.2169 - val_accuracy: 0.0471\n",
      "Epoch 2/20\n",
      "19/19 [==============================] - 0s 3ms/step - loss: 137.9911 - accuracy: 0.0338 - val_loss: 113.0977 - val_accuracy: 0.0471\n",
      "Epoch 3/20\n",
      "19/19 [==============================] - 0s 3ms/step - loss: 73.3451 - accuracy: 0.0338 - val_loss: 54.8376 - val_accuracy: 0.0471\n",
      "Epoch 4/20\n",
      "19/19 [==============================] - 0s 3ms/step - loss: 40.0928 - accuracy: 0.0338 - val_loss: 36.8735 - val_accuracy: 0.0471\n",
      "Epoch 5/20\n",
      "19/19 [==============================] - 0s 3ms/step - loss: 32.2570 - accuracy: 0.0338 - val_loss: 31.7043 - val_accuracy: 0.0471\n",
      "Epoch 6/20\n",
      "19/19 [==============================] - 0s 3ms/step - loss: 27.9786 - accuracy: 0.0338 - val_loss: 27.9223 - val_accuracy: 0.0471\n",
      "Epoch 7/20\n",
      "19/19 [==============================] - 0s 3ms/step - loss: 24.8204 - accuracy: 0.0338 - val_loss: 24.8538 - val_accuracy: 0.0471\n",
      "Epoch 8/20\n",
      "19/19 [==============================] - 0s 3ms/step - loss: 22.5560 - accuracy: 0.0338 - val_loss: 22.9267 - val_accuracy: 0.0471\n",
      "Epoch 9/20\n",
      "19/19 [==============================] - 0s 3ms/step - loss: 21.2277 - accuracy: 0.0338 - val_loss: 21.4689 - val_accuracy: 0.0471\n",
      "Epoch 10/20\n",
      "19/19 [==============================] - 0s 3ms/step - loss: 20.2330 - accuracy: 0.0338 - val_loss: 20.7734 - val_accuracy: 0.0471\n",
      "Epoch 11/20\n",
      "19/19 [==============================] - 0s 3ms/step - loss: 19.5035 - accuracy: 0.0338 - val_loss: 20.1227 - val_accuracy: 0.0471\n",
      "Epoch 12/20\n",
      "19/19 [==============================] - 0s 3ms/step - loss: 19.0086 - accuracy: 0.0338 - val_loss: 19.8902 - val_accuracy: 0.0471\n",
      "Epoch 13/20\n",
      "19/19 [==============================] - 0s 3ms/step - loss: 18.5695 - accuracy: 0.0338 - val_loss: 19.5542 - val_accuracy: 0.0471\n",
      "Epoch 14/20\n",
      "19/19 [==============================] - 0s 3ms/step - loss: 18.2430 - accuracy: 0.0338 - val_loss: 19.2463 - val_accuracy: 0.0471\n",
      "Epoch 15/20\n",
      "19/19 [==============================] - 0s 3ms/step - loss: 17.9461 - accuracy: 0.0338 - val_loss: 19.1145 - val_accuracy: 0.0471\n",
      "Epoch 16/20\n",
      "19/19 [==============================] - 0s 3ms/step - loss: 17.6793 - accuracy: 0.0338 - val_loss: 18.9962 - val_accuracy: 0.0471\n",
      "Epoch 17/20\n",
      "19/19 [==============================] - 0s 3ms/step - loss: 17.5010 - accuracy: 0.0338 - val_loss: 18.9016 - val_accuracy: 0.0471\n",
      "Epoch 18/20\n",
      "19/19 [==============================] - 0s 3ms/step - loss: 17.2325 - accuracy: 0.0338 - val_loss: 18.9714 - val_accuracy: 0.0471\n",
      "Epoch 19/20\n",
      "19/19 [==============================] - 0s 3ms/step - loss: 17.0601 - accuracy: 0.0338 - val_loss: 18.9716 - val_accuracy: 0.0471\n",
      "Epoch 20/20\n",
      "19/19 [==============================] - 0s 3ms/step - loss: 16.7838 - accuracy: 0.0338 - val_loss: 18.2538 - val_accuracy: 0.0471\n"
     ]
    }
   ],
   "source": [
    "histo2=model2.fit(xmod2_train,ymod_train,epochs=17,validation_data=(xmod2_test,ymod_test))"
   ]
  },
  {
   "cell_type": "code",
   "execution_count": 21,
   "metadata": {},
   "outputs": [
    {
     "data": {
      "text/plain": [
       "[<matplotlib.lines.Line2D at 0x12962a883a0>]"
      ]
     },
     "execution_count": 21,
     "metadata": {},
     "output_type": "execute_result"
    },
    {
     "data": {
      "image/png": "[encoded data removed]",
      "text/plain": [
       "<Figure size 432x288 with 1 Axes>"
      ]
     },
     "metadata": {
      "needs_background": "light"
     },
     "output_type": "display_data"
    }
   ],
   "source": [
    "plt.plot(histo2.history['loss'])\n",
    "plt.plot(histo2.history['val_loss'])"
   ]
  },
  {
   "cell_type": "code",
   "execution_count": 22,
   "metadata": {},
   "outputs": [
    {
     "name": "stdout",
     "output_type": "stream",
     "text": [
      "1/1 [==============================] - 0s 57ms/step\n"
     ]
    },
    {
     "data": {
      "text/plain": [
       "array([[16.271484 ],\n",
       "       [13.511462 ],\n",
       "       [ 7.3186097]], dtype=float32)"
      ]
     },
     "execution_count": 22,
     "metadata": {},
     "output_type": "execute_result"
    }
   ],
   "source": [
    "model2.predict(xmod2_test[:3])"
   ]
  },
  {
   "cell_type": "code",
   "execution_count": 23,
   "metadata": {},
   "outputs": [
    {
     "data": {
      "text/plain": [
       "array([16., 18.,  7.], dtype=float32)"
      ]
     },
     "execution_count": 23,
     "metadata": {},
     "output_type": "execute_result"
    }
   ],
   "source": [
    "ymod_test[:3]"
   ]
  },
  {
   "cell_type": "markdown",
   "metadata": {},
   "source": [
    "## Model 3: Mean and standard deviation of grid and final race position"
   ]
  },
  {
   "cell_type": "markdown",
   "metadata": {},
   "source": [
    "### Define model architecture"
   ]
  },
  {
   "cell_type": "code",
   "execution_count": 25,
   "metadata": {},
   "outputs": [],
   "source": [
    "model3=Sequential()\n",
    "model3.add(Dense(10,activation='relu',input_shape=(4,)))\n",
    "model3.add(Dense(20,activation='relu'))\n",
    "model3.add(Dense(10,activation='relu'))\n",
    "model3.add(Dense(1,activation='linear'))"
   ]
  },
  {
   "cell_type": "markdown",
   "metadata": {},
   "source": [
    "### Compile model and show summary"
   ]
  },
  {
   "cell_type": "code",
   "execution_count": 26,
   "metadata": {},
   "outputs": [
    {
     "name": "stdout",
     "output_type": "stream",
     "text": [
      "Model: \"sequential_2\"\n",
      "_________________________________________________________________\n",
      " Layer (type)                Output Shape              Param #   \n",
      "=================================================================\n",
      " dense_8 (Dense)             (None, 10)                50        \n",
      "                                                                 \n",
      " dense_9 (Dense)             (None, 20)                220       \n",
      "                                                                 \n",
      " dense_10 (Dense)            (None, 10)                210       \n",
      "                                                                 \n",
      " dense_11 (Dense)            (None, 1)                 11        \n",
      "                                                                 \n",
      "=================================================================\n",
      "Total params: 491 (1.92 KB)\n",
      "Trainable params: 491 (1.92 KB)\n",
      "Non-trainable params: 0 (0.00 Byte)\n",
      "_________________________________________________________________\n"
     ]
    }
   ],
   "source": [
    "model3.compile(optimizer='adam',loss='mean_squared_error',metrics=['accuracy'])\n",
    "\n",
    "model3.summary()"
   ]
  },
  {
   "cell_type": "markdown",
   "metadata": {},
   "source": [
    "### Select data"
   ]
  },
  {
   "cell_type": "code",
   "execution_count": 28,
   "metadata": {},
   "outputs": [
    {
     "data": {
      "text/plain": [
       "Index(['Year', 'RaceResults', 'GridPos', 'QualiRes', 'NumRaces', 'AvgFinalPos',\n",
       "       'StdDevFinalPos', 'MedianFinalPos', 'AvgStartPos', 'StdDevStartPos',\n",
       "       'MedianStartPos'],\n",
       "      dtype='object')"
      ]
     },
     "execution_count": 28,
     "metadata": {},
     "output_type": "execute_result"
    }
   ],
   "source": [
    "Xall_train.columns"
   ]
  },
  {
   "cell_type": "code",
   "execution_count": 29,
   "metadata": {},
   "outputs": [
    {
     "name": "stdout",
     "output_type": "stream",
     "text": [
      "(592, 4)\n",
      "(592,)\n",
      "(255, 4)\n",
      "(255,)\n"
     ]
    }
   ],
   "source": [
    "xmod3_train=np.float32(Xall_train[['AvgFinalPos','StdDevFinalPos','AvgStartPos','StdDevStartPos']].values)\n",
    "xmod3_test=np.float32(Xall_test[['AvgFinalPos','StdDevFinalPos','AvgStartPos','StdDevStartPos']].values)\n",
    "ymod_train=np.float32(y_train.values)\n",
    "ymod_test=np.float32(y_test.values)\n",
    "\n",
    "print(xmod3_train.shape)\n",
    "print(ymod_train.shape)\n",
    "print(xmod3_test.shape)\n",
    "print(ymod_test.shape)"
   ]
  },
  {
   "cell_type": "markdown",
   "metadata": {},
   "source": [
    "### Train and evaluate model"
   ]
  },
  {
   "cell_type": "code",
   "execution_count": 30,
   "metadata": {},
   "outputs": [
    {
     "name": "stdout",
     "output_type": "stream",
     "text": [
      "Epoch 1/20\n",
      "19/19 [==============================] - 1s 8ms/step - loss: 246.4675 - accuracy: 0.0034 - val_loss: 232.4904 - val_accuracy: 0.0196\n",
      "Epoch 2/20\n",
      "19/19 [==============================] - 0s 3ms/step - loss: 189.5083 - accuracy: 0.0338 - val_loss: 167.6683 - val_accuracy: 0.0471\n",
      "Epoch 3/20\n",
      "19/19 [==============================] - 0s 3ms/step - loss: 130.3597 - accuracy: 0.0338 - val_loss: 101.3702 - val_accuracy: 0.0471\n",
      "Epoch 4/20\n",
      "19/19 [==============================] - 0s 3ms/step - loss: 70.2211 - accuracy: 0.0338 - val_loss: 42.2355 - val_accuracy: 0.0471\n",
      "Epoch 5/20\n",
      "19/19 [==============================] - 0s 3ms/step - loss: 29.3897 - accuracy: 0.0338 - val_loss: 21.6815 - val_accuracy: 0.0471\n",
      "Epoch 6/20\n",
      "19/19 [==============================] - 0s 4ms/step - loss: 21.1809 - accuracy: 0.0338 - val_loss: 21.3681 - val_accuracy: 0.0471\n",
      "Epoch 7/20\n",
      "19/19 [==============================] - 0s 3ms/step - loss: 20.0785 - accuracy: 0.0338 - val_loss: 20.1044 - val_accuracy: 0.0471\n",
      "Epoch 8/20\n",
      "19/19 [==============================] - 0s 3ms/step - loss: 18.4531 - accuracy: 0.0338 - val_loss: 19.2773 - val_accuracy: 0.0471\n",
      "Epoch 9/20\n",
      "19/19 [==============================] - 0s 3ms/step - loss: 17.0686 - accuracy: 0.0338 - val_loss: 18.3863 - val_accuracy: 0.0471\n",
      "Epoch 10/20\n",
      "19/19 [==============================] - 0s 4ms/step - loss: 15.7794 - accuracy: 0.0338 - val_loss: 17.5394 - val_accuracy: 0.0471\n",
      "Epoch 11/20\n",
      "19/19 [==============================] - 0s 3ms/step - loss: 14.2198 - accuracy: 0.0321 - val_loss: 16.0674 - val_accuracy: 0.0392\n",
      "Epoch 12/20\n",
      "19/19 [==============================] - 0s 3ms/step - loss: 13.4681 - accuracy: 0.0253 - val_loss: 15.6434 - val_accuracy: 0.0353\n",
      "Epoch 13/20\n",
      "19/19 [==============================] - 0s 4ms/step - loss: 12.9510 - accuracy: 0.0270 - val_loss: 15.2408 - val_accuracy: 0.0353\n",
      "Epoch 14/20\n",
      "19/19 [==============================] - 0s 3ms/step - loss: 12.6761 - accuracy: 0.0270 - val_loss: 15.0909 - val_accuracy: 0.0353\n",
      "Epoch 15/20\n",
      "19/19 [==============================] - 0s 3ms/step - loss: 12.5232 - accuracy: 0.0287 - val_loss: 15.0922 - val_accuracy: 0.0353\n",
      "Epoch 16/20\n",
      "19/19 [==============================] - 0s 3ms/step - loss: 12.3726 - accuracy: 0.0287 - val_loss: 14.6895 - val_accuracy: 0.0353\n",
      "Epoch 17/20\n",
      "19/19 [==============================] - 0s 3ms/step - loss: 12.3244 - accuracy: 0.0287 - val_loss: 14.7475 - val_accuracy: 0.0353\n",
      "Epoch 18/20\n",
      "19/19 [==============================] - 0s 3ms/step - loss: 12.2526 - accuracy: 0.0304 - val_loss: 14.6607 - val_accuracy: 0.0431\n",
      "Epoch 19/20\n",
      "19/19 [==============================] - 0s 3ms/step - loss: 12.1819 - accuracy: 0.0338 - val_loss: 14.7803 - val_accuracy: 0.0431\n",
      "Epoch 20/20\n",
      "19/19 [==============================] - 0s 3ms/step - loss: 12.1172 - accuracy: 0.0338 - val_loss: 14.6873 - val_accuracy: 0.0471\n"
     ]
    }
   ],
   "source": [
    "histo3=model3.fit(xmod3_train,ymod_train,epochs=20,validation_data=(xmod3_test,ymod_test))"
   ]
  },
  {
   "cell_type": "code",
   "execution_count": 31,
   "metadata": {},
   "outputs": [
    {
     "data": {
      "text/plain": [
       "[<matplotlib.lines.Line2D at 0x129650aaa40>]"
      ]
     },
     "execution_count": 31,
     "metadata": {},
     "output_type": "execute_result"
    },
    {
     "data": {
      "image/png": "[encoded data removed]",
      "text/plain": [
       "<Figure size 432x288 with 1 Axes>"
      ]
     },
     "metadata": {
      "needs_background": "light"
     },
     "output_type": "display_data"
    }
   ],
   "source": [
    "plt.plot(histo3.history['loss'])\n",
    "plt.plot(histo3.history['val_loss'])"
   ]
  },
  {
   "cell_type": "code",
   "execution_count": 32,
   "metadata": {},
   "outputs": [
    {
     "name": "stdout",
     "output_type": "stream",
     "text": [
      "1/1 [==============================] - 0s 56ms/step\n"
     ]
    },
    {
     "data": {
      "text/plain": [
       "array([[13.980842],\n",
       "       [16.149017],\n",
       "       [ 6.568536]], dtype=float32)"
      ]
     },
     "execution_count": 32,
     "metadata": {},
     "output_type": "execute_result"
    }
   ],
   "source": [
    "model3.predict(xmod3_test[:3])"
   ]
  },
  {
   "cell_type": "code",
   "execution_count": 33,
   "metadata": {},
   "outputs": [
    {
     "data": {
      "text/plain": [
       "array([16., 18.,  7.], dtype=float32)"
      ]
     },
     "execution_count": 33,
     "metadata": {},
     "output_type": "execute_result"
    }
   ],
   "source": [
    "ymod_test[:3]"
   ]
  },
  {
   "cell_type": "code",
   "execution_count": null,
   "metadata": {},
   "outputs": [],
   "source": []
  }
 ],
 "metadata": {
  "celltoolbar": "Raw Cell Format",
  "kernelspec": {
   "display_name": "Python 3 (ipykernel)",
   "language": "python",
   "name": "python3"
  },
  "language_info": {
   "codemirror_mode": {
    "name": "ipython",
    "version": 3
   },
   "file_extension": ".py",
   "mimetype": "text/x-python",
   "name": "python",
   "nbconvert_exporter": "python",
   "pygments_lexer": "ipython3",
   "version": "3.10.6"
  }
 },
 "nbformat": 4,
 "nbformat_minor": 2
}
