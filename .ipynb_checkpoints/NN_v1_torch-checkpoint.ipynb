{
 "cells": [
  {
   "cell_type": "markdown",
   "metadata": {},
   "source": [
    "# Import packages"
   ]
  },
  {
   "cell_type": "code",
   "execution_count": 1,
   "metadata": {},
   "outputs": [],
   "source": [
    "import pandas as pd \n",
    "import numpy as np \n",
    "import torch\n",
    "import torch.nn.functional as F\n",
    "from torch import nn\n",
    "from torch import optim\n",
    "from sklearn.model_selection import train_test_split\n",
    "import matplotlib.pyplot as plt\n",
    "%matplotlib inline"
   ]
  },
  {
   "cell_type": "code",
   "execution_count": 2,
   "metadata": {},
   "outputs": [
    {
     "data": {
      "text/plain": [
       "False"
      ]
     },
     "execution_count": 2,
     "metadata": {},
     "output_type": "execute_result"
    }
   ],
   "source": [
    "torch.cuda.is_available()"
   ]
  },
  {
   "cell_type": "markdown",
   "metadata": {},
   "source": [
    "# Import dataset and select x and y data"
   ]
  },
  {
   "cell_type": "code",
   "execution_count": 9,
   "metadata": {},
   "outputs": [],
   "source": [
    "dataset=pd.read_csv('./data/driver_clean_data.csv')"
   ]
  },
  {
   "cell_type": "markdown",
   "metadata": {},
   "source": [
    "We will first select all the possible data that we might consider as input data. Then, we will try different networks with different subsets of this big X vector."
   ]
  },
  {
   "cell_type": "code",
   "execution_count": 10,
   "metadata": {},
   "outputs": [],
   "source": [
    "Xall = dataset[['Year','RaceResults','GridPos','QualiRes','NumRaces','AvgFinalPos','StdDevFinalPos','MedianFinalPos','AvgStartPos','StdDevStartPos','MedianStartPos']]\n",
    "y = dataset['Championship Position']"
   ]
  },
  {
   "cell_type": "markdown",
   "metadata": {},
   "source": [
    "Split in train and test datasets"
   ]
  },
  {
   "cell_type": "code",
   "execution_count": 11,
   "metadata": {},
   "outputs": [],
   "source": [
    "Xall_train, Xall_test, y_train, y_test = train_test_split(Xall, y, random_state=111,test_size=0.3,shuffle=True)"
   ]
  },
  {
   "cell_type": "code",
   "execution_count": 12,
   "metadata": {},
   "outputs": [
    {
     "data": {
      "text/html": [
       "<div>\n",
       "<style scoped>\n",
       "    .dataframe tbody tr th:only-of-type {\n",
       "        vertical-align: middle;\n",
       "    }\n",
       "\n",
       "    .dataframe tbody tr th {\n",
       "        vertical-align: top;\n",
       "    }\n",
       "\n",
       "    .dataframe thead th {\n",
       "        text-align: right;\n",
       "    }\n",
       "</style>\n",
       "<table border=\"1\" class=\"dataframe\">\n",
       "  <thead>\n",
       "    <tr style=\"text-align: right;\">\n",
       "      <th></th>\n",
       "      <th>AvgFinalPos</th>\n",
       "      <th>StdDevFinalPos</th>\n",
       "    </tr>\n",
       "  </thead>\n",
       "  <tbody>\n",
       "    <tr>\n",
       "      <th>59</th>\n",
       "      <td>8.500000</td>\n",
       "      <td>8.817596</td>\n",
       "    </tr>\n",
       "    <tr>\n",
       "      <th>664</th>\n",
       "      <td>7.421053</td>\n",
       "      <td>5.696867</td>\n",
       "    </tr>\n",
       "    <tr>\n",
       "      <th>757</th>\n",
       "      <td>12.250000</td>\n",
       "      <td>3.973349</td>\n",
       "    </tr>\n",
       "    <tr>\n",
       "      <th>573</th>\n",
       "      <td>14.947368</td>\n",
       "      <td>6.108438</td>\n",
       "    </tr>\n",
       "    <tr>\n",
       "      <th>487</th>\n",
       "      <td>15.055556</td>\n",
       "      <td>5.512332</td>\n",
       "    </tr>\n",
       "  </tbody>\n",
       "</table>\n",
       "</div>"
      ],
      "text/plain": [
       "     AvgFinalPos  StdDevFinalPos\n",
       "59      8.500000        8.817596\n",
       "664     7.421053        5.696867\n",
       "757    12.250000        3.973349\n",
       "573    14.947368        6.108438\n",
       "487    15.055556        5.512332"
      ]
     },
     "execution_count": 12,
     "metadata": {},
     "output_type": "execute_result"
    }
   ],
   "source": [
    "Xall_train[['AvgFinalPos','StdDevFinalPos']].head()"
   ]
  },
  {
   "cell_type": "code",
   "execution_count": 13,
   "metadata": {},
   "outputs": [
    {
     "data": {
      "text/plain": [
       "46"
      ]
     },
     "execution_count": 13,
     "metadata": {},
     "output_type": "execute_result"
    }
   ],
   "source": [
    "dataset['Championship Position'].max()"
   ]
  },
  {
   "cell_type": "markdown",
   "metadata": {},
   "source": [
    "Since all the input and output values have similar size and there is no more than an order of magnitude of difference between minimum and maximum, there is no need to normalize the values."
   ]
  },
  {
   "cell_type": "code",
   "execution_count": 14,
   "metadata": {},
   "outputs": [],
   "source": [
    "yTrain = torch.from_numpy(np.float32(y_train.values))\n",
    "yTest = torch.from_numpy(np.float32(y_test.values))"
   ]
  },
  {
   "cell_type": "markdown",
   "metadata": {},
   "source": [
    "# Models"
   ]
  },
  {
   "cell_type": "markdown",
   "metadata": {},
   "source": [
    "Now, I will construct different models with different inputs to compare their predictive power.\n",
    "They will all use dense layers. I will also test different hyperparameter configurations.\n",
    "The output  will not be hardcoded, i.e. the last layer will give a number between 1 and 46, which is the maximum Championship position found in the dataset."
   ]
  },
  {
   "cell_type": "markdown",
   "metadata": {},
   "source": [
    "## Model 1: Final position average and standard deviation as input"
   ]
  },
  {
   "cell_type": "code",
   "execution_count": 15,
   "metadata": {},
   "outputs": [],
   "source": [
    "xmod1_train=torch.from_numpy(np.float32(Xall_train[['AvgFinalPos','StdDevFinalPos']].values))\n",
    "xmod1_test=torch.from_numpy(np.float32(Xall_test[['AvgFinalPos','StdDevFinalPos']].values))"
   ]
  },
  {
   "cell_type": "markdown",
   "metadata": {},
   "source": [
    "### Define model architecture"
   ]
  },
  {
   "cell_type": "markdown",
   "metadata": {},
   "source": [
    "In Pytorch, this is done by defining a new class"
   ]
  },
  {
   "cell_type": "code",
   "execution_count": 23,
   "metadata": {},
   "outputs": [],
   "source": [
    "class MLF1mod1(nn.Module):\n",
    "    def __init__(self):\n",
    "        super().__init__()\n",
    "        self.lay1 = nn.Linear(2,10)\n",
    "        self.lay2 = nn.Linear(10,20)\n",
    "        self.lay3 = nn.Linear(20,10)\n",
    "        self.lay4  = nn.Linear(10,1)\n",
    "        \n",
    "    def forward(self, x):\n",
    "        x = F.relu(self.lay1(x))\n",
    "        x = F.relu(self.lay2(x))\n",
    "        x = F.relu(self.lay3(x))\n",
    "        x = self.lay4(x)\n",
    "        return x\n",
    "    \n",
    "        \n",
    "    "
   ]
  },
  {
   "cell_type": "code",
   "execution_count": 24,
   "metadata": {},
   "outputs": [],
   "source": [
    "model1 = MLF1mod1()\n",
    "loss_MLF1 = nn.MSELoss()"
   ]
  },
  {
   "cell_type": "code",
   "execution_count": 25,
   "metadata": {},
   "outputs": [],
   "source": [
    "optimMod1 = optim.Adam(model1.parameters(), lr=0.001)"
   ]
  },
  {
   "cell_type": "code",
   "execution_count": 30,
   "metadata": {},
   "outputs": [
    {
     "data": {
      "text/plain": [
       "592"
      ]
     },
     "execution_count": 30,
     "metadata": {},
     "output_type": "execute_result"
    }
   ],
   "source": [
    "xmod1_train.size()[0]"
   ]
  },
  {
   "cell_type": "code",
   "execution_count": 51,
   "metadata": {},
   "outputs": [],
   "source": [
    "res=model1(xmod1_train)"
   ]
  },
  {
   "cell_type": "code",
   "execution_count": 52,
   "metadata": {},
   "outputs": [
    {
     "data": {
      "text/plain": [
       "tensor([[ 0.5033],\n",
       "        [ 0.3509],\n",
       "        [ 0.6285],\n",
       "        [ 0.8276],\n",
       "        [ 0.8267],\n",
       "        [ 0.7279],\n",
       "        [ 0.3293],\n",
       "        [ 0.8181],\n",
       "        [ 0.6297],\n",
       "        [ 0.4304],\n",
       "        [ 1.0724],\n",
       "        [ 0.0992],\n",
       "        [ 0.2382],\n",
       "        [ 0.6312],\n",
       "        [ 0.3232],\n",
       "        [ 0.7437],\n",
       "        [ 0.7629],\n",
       "        [ 0.5990],\n",
       "        [ 0.5631],\n",
       "        [ 0.3643],\n",
       "        [ 0.5384],\n",
       "        [ 0.6866],\n",
       "        [ 0.6349],\n",
       "        [ 0.7686],\n",
       "        [ 0.3473],\n",
       "        [ 0.6010],\n",
       "        [ 0.7143],\n",
       "        [ 0.7343],\n",
       "        [ 0.4820],\n",
       "        [ 0.5931],\n",
       "        [ 0.7823],\n",
       "        [ 0.3829],\n",
       "        [ 0.6701],\n",
       "        [ 0.7192],\n",
       "        [ 0.8801],\n",
       "        [ 0.3721],\n",
       "        [ 1.0330],\n",
       "        [ 0.6557],\n",
       "        [ 0.8225],\n",
       "        [ 0.8169],\n",
       "        [ 0.7947],\n",
       "        [ 0.6488],\n",
       "        [ 0.9441],\n",
       "        [ 0.7352],\n",
       "        [ 0.5639],\n",
       "        [ 0.7634],\n",
       "        [ 0.7913],\n",
       "        [ 0.8512],\n",
       "        [ 0.7194],\n",
       "        [ 0.2759],\n",
       "        [ 0.8607],\n",
       "        [ 0.5485],\n",
       "        [ 1.2510],\n",
       "        [ 1.2052],\n",
       "        [ 0.7713],\n",
       "        [ 1.0382],\n",
       "        [ 0.7369],\n",
       "        [ 0.1172],\n",
       "        [ 0.7493],\n",
       "        [ 0.9340],\n",
       "        [ 0.2923],\n",
       "        [ 0.7544],\n",
       "        [ 0.4580],\n",
       "        [ 0.3973],\n",
       "        [ 0.3529],\n",
       "        [ 1.1254],\n",
       "        [ 0.0173],\n",
       "        [ 0.5215],\n",
       "        [ 0.2020],\n",
       "        [ 0.3831],\n",
       "        [ 0.2180],\n",
       "        [ 0.8453],\n",
       "        [ 0.9981],\n",
       "        [ 0.6379],\n",
       "        [ 0.8422],\n",
       "        [ 0.2092],\n",
       "        [ 0.9061],\n",
       "        [ 1.0528],\n",
       "        [ 0.7803],\n",
       "        [ 1.1017],\n",
       "        [ 0.9603],\n",
       "        [ 0.1147],\n",
       "        [ 0.7571],\n",
       "        [ 0.3763],\n",
       "        [ 0.4985],\n",
       "        [ 0.4109],\n",
       "        [ 0.3324],\n",
       "        [ 0.3354],\n",
       "        [ 0.0927],\n",
       "        [ 0.3205],\n",
       "        [ 0.4436],\n",
       "        [ 0.7103],\n",
       "        [ 0.5414],\n",
       "        [ 0.3316],\n",
       "        [ 0.3698],\n",
       "        [ 1.0649],\n",
       "        [ 0.4832],\n",
       "        [ 0.4893],\n",
       "        [ 1.3359],\n",
       "        [ 0.9327],\n",
       "        [ 0.6648],\n",
       "        [ 0.1275],\n",
       "        [ 0.9965],\n",
       "        [ 0.4868],\n",
       "        [ 0.6268],\n",
       "        [ 0.3565],\n",
       "        [ 0.9159],\n",
       "        [ 0.2747],\n",
       "        [ 0.6550],\n",
       "        [ 0.4064],\n",
       "        [ 0.3731],\n",
       "        [ 0.3956],\n",
       "        [ 0.7543],\n",
       "        [ 0.3063],\n",
       "        [ 0.7686],\n",
       "        [ 1.0453],\n",
       "        [-0.0166],\n",
       "        [ 0.4441],\n",
       "        [ 1.5721],\n",
       "        [ 0.5940],\n",
       "        [ 0.7474],\n",
       "        [ 1.1230],\n",
       "        [ 1.0093],\n",
       "        [ 0.8488],\n",
       "        [ 0.2149],\n",
       "        [ 0.6084],\n",
       "        [ 0.9517],\n",
       "        [ 0.3721],\n",
       "        [ 0.1108],\n",
       "        [ 0.7441],\n",
       "        [ 0.9258],\n",
       "        [ 0.0024],\n",
       "        [ 0.7840],\n",
       "        [ 0.4261],\n",
       "        [ 0.2710],\n",
       "        [ 0.9589],\n",
       "        [ 0.8154],\n",
       "        [ 0.5412],\n",
       "        [ 0.5891],\n",
       "        [ 0.3200],\n",
       "        [ 0.5984],\n",
       "        [ 1.2091],\n",
       "        [ 0.7450],\n",
       "        [ 0.8418],\n",
       "        [ 0.5827],\n",
       "        [ 0.6587],\n",
       "        [ 0.7349],\n",
       "        [ 0.8000],\n",
       "        [ 0.5330],\n",
       "        [ 0.6689],\n",
       "        [ 0.7752],\n",
       "        [ 1.4296],\n",
       "        [ 1.0179],\n",
       "        [ 0.1942],\n",
       "        [ 1.2779],\n",
       "        [ 0.5690],\n",
       "        [ 0.4241],\n",
       "        [ 0.9903],\n",
       "        [ 0.6363],\n",
       "        [ 0.4000],\n",
       "        [ 1.3893],\n",
       "        [ 0.8430],\n",
       "        [ 0.3067],\n",
       "        [ 0.7212],\n",
       "        [ 0.5421],\n",
       "        [ 0.1308],\n",
       "        [ 0.1977],\n",
       "        [ 1.5569],\n",
       "        [ 0.9091],\n",
       "        [ 0.2781],\n",
       "        [ 0.2778],\n",
       "        [ 0.6448],\n",
       "        [ 0.2267],\n",
       "        [ 1.1259],\n",
       "        [ 0.8299],\n",
       "        [ 0.4749],\n",
       "        [ 1.6162],\n",
       "        [ 0.3759],\n",
       "        [ 0.8483],\n",
       "        [ 0.7746],\n",
       "        [ 0.6378],\n",
       "        [ 0.6718],\n",
       "        [ 0.5640],\n",
       "        [ 0.8497],\n",
       "        [ 0.7326],\n",
       "        [ 0.1761],\n",
       "        [ 1.2490],\n",
       "        [ 0.7928],\n",
       "        [ 0.4610],\n",
       "        [ 0.3657],\n",
       "        [ 0.9434],\n",
       "        [ 0.1175],\n",
       "        [ 0.3532],\n",
       "        [ 0.4590],\n",
       "        [ 0.7227],\n",
       "        [ 0.3223],\n",
       "        [ 0.5872],\n",
       "        [ 1.5593],\n",
       "        [ 0.3243],\n",
       "        [ 0.5904],\n",
       "        [ 0.7255],\n",
       "        [ 0.4457],\n",
       "        [ 0.8508],\n",
       "        [ 0.7464],\n",
       "        [ 0.7178],\n",
       "        [ 0.2317],\n",
       "        [ 0.4079],\n",
       "        [ 0.8471],\n",
       "        [ 0.3263],\n",
       "        [ 0.9587],\n",
       "        [ 0.5284],\n",
       "        [ 0.5800],\n",
       "        [ 0.9747],\n",
       "        [ 0.5963],\n",
       "        [ 0.5569],\n",
       "        [ 0.0905],\n",
       "        [ 0.3729],\n",
       "        [ 0.4100],\n",
       "        [ 0.3519],\n",
       "        [ 0.9974],\n",
       "        [ 0.8268],\n",
       "        [ 0.9981],\n",
       "        [ 0.5730],\n",
       "        [ 0.6079],\n",
       "        [ 1.6203],\n",
       "        [ 0.7270],\n",
       "        [ 0.3976],\n",
       "        [ 0.7549],\n",
       "        [ 0.4229],\n",
       "        [ 0.8617],\n",
       "        [ 0.9718],\n",
       "        [ 0.8415],\n",
       "        [ 0.8041],\n",
       "        [ 0.5826],\n",
       "        [ 0.7803],\n",
       "        [ 0.3076],\n",
       "        [ 0.2068],\n",
       "        [ 0.6430],\n",
       "        [ 0.9288],\n",
       "        [ 0.6380],\n",
       "        [ 0.8688],\n",
       "        [ 0.6210],\n",
       "        [ 0.1903],\n",
       "        [ 0.5743],\n",
       "        [ 1.1611],\n",
       "        [ 0.2821],\n",
       "        [ 0.7738],\n",
       "        [ 0.6165],\n",
       "        [ 0.8867],\n",
       "        [ 0.3804],\n",
       "        [ 0.6808],\n",
       "        [ 0.3409],\n",
       "        [ 0.1782],\n",
       "        [ 0.7059],\n",
       "        [ 0.9192],\n",
       "        [ 0.5518],\n",
       "        [ 0.7884],\n",
       "        [ 0.3006],\n",
       "        [ 0.6274],\n",
       "        [ 0.5195],\n",
       "        [ 1.0722],\n",
       "        [ 0.4842],\n",
       "        [ 0.9329],\n",
       "        [ 0.5796],\n",
       "        [ 0.5913],\n",
       "        [ 0.4075],\n",
       "        [ 1.6243],\n",
       "        [ 0.8607],\n",
       "        [ 0.7594],\n",
       "        [ 0.7700],\n",
       "        [ 0.4637],\n",
       "        [ 0.6701],\n",
       "        [ 0.6356],\n",
       "        [ 0.5805],\n",
       "        [ 0.7375],\n",
       "        [ 0.3091],\n",
       "        [ 0.7436],\n",
       "        [ 0.9695],\n",
       "        [ 0.8755],\n",
       "        [ 0.7665],\n",
       "        [ 0.9551],\n",
       "        [ 0.6590],\n",
       "        [ 0.7066],\n",
       "        [ 0.7182],\n",
       "        [ 0.1165],\n",
       "        [ 0.7840],\n",
       "        [ 0.5511],\n",
       "        [ 0.7412],\n",
       "        [ 0.9399],\n",
       "        [ 1.2902],\n",
       "        [ 0.4437],\n",
       "        [ 0.3659],\n",
       "        [ 0.7613],\n",
       "        [ 0.7303],\n",
       "        [ 1.2913],\n",
       "        [ 0.6056],\n",
       "        [ 0.8955],\n",
       "        [ 0.9662],\n",
       "        [ 0.7059],\n",
       "        [ 0.4525],\n",
       "        [ 0.6533],\n",
       "        [ 0.3735],\n",
       "        [ 0.4165],\n",
       "        [ 0.7850],\n",
       "        [ 0.7568],\n",
       "        [ 0.3149],\n",
       "        [ 0.6048],\n",
       "        [ 0.9871],\n",
       "        [ 0.1796],\n",
       "        [ 0.2712],\n",
       "        [ 0.4791],\n",
       "        [ 0.5497],\n",
       "        [ 0.6264],\n",
       "        [ 0.5377],\n",
       "        [ 0.6349],\n",
       "        [ 0.7211],\n",
       "        [ 0.8711],\n",
       "        [ 0.8036],\n",
       "        [ 0.8567],\n",
       "        [ 0.7354],\n",
       "        [ 0.5579],\n",
       "        [ 1.7552],\n",
       "        [ 0.7300],\n",
       "        [ 1.1102],\n",
       "        [ 0.7427],\n",
       "        [ 0.8283],\n",
       "        [ 0.7443],\n",
       "        [ 0.2900],\n",
       "        [ 0.5262],\n",
       "        [ 0.4578],\n",
       "        [ 0.5811],\n",
       "        [ 0.6968],\n",
       "        [ 0.7537],\n",
       "        [ 0.4167],\n",
       "        [ 0.2926],\n",
       "        [ 0.5737],\n",
       "        [ 0.7758],\n",
       "        [ 0.4907],\n",
       "        [ 0.5848],\n",
       "        [ 0.8864],\n",
       "        [ 0.7276],\n",
       "        [ 0.9408],\n",
       "        [ 0.8975],\n",
       "        [ 0.6714],\n",
       "        [ 0.5391],\n",
       "        [ 0.6122],\n",
       "        [ 0.2372],\n",
       "        [ 0.6109],\n",
       "        [ 0.8351],\n",
       "        [ 0.2404],\n",
       "        [ 1.2114],\n",
       "        [ 0.9014],\n",
       "        [ 0.8501],\n",
       "        [ 1.2851],\n",
       "        [ 0.5790],\n",
       "        [ 0.8013],\n",
       "        [ 0.5613],\n",
       "        [ 0.3455],\n",
       "        [ 0.7256],\n",
       "        [ 0.5210],\n",
       "        [ 0.7163],\n",
       "        [ 0.0274],\n",
       "        [ 0.5658],\n",
       "        [ 0.3729],\n",
       "        [ 0.6037],\n",
       "        [ 1.9740],\n",
       "        [ 0.5328],\n",
       "        [ 0.3495],\n",
       "        [ 0.8217],\n",
       "        [ 0.8256],\n",
       "        [ 1.6969],\n",
       "        [ 0.4368],\n",
       "        [ 0.7045],\n",
       "        [ 0.5235],\n",
       "        [ 0.8568],\n",
       "        [ 0.8863],\n",
       "        [ 0.2965],\n",
       "        [ 0.7376],\n",
       "        [ 0.4683],\n",
       "        [ 0.6439],\n",
       "        [ 1.4279],\n",
       "        [ 0.7025],\n",
       "        [ 0.7949],\n",
       "        [ 0.0739],\n",
       "        [ 0.5085],\n",
       "        [ 0.1454],\n",
       "        [ 1.0434],\n",
       "        [ 0.4103],\n",
       "        [ 0.6941],\n",
       "        [ 0.5689],\n",
       "        [ 0.5600],\n",
       "        [ 0.7007],\n",
       "        [ 0.2395],\n",
       "        [ 0.3194],\n",
       "        [ 0.6546],\n",
       "        [ 0.3393],\n",
       "        [ 0.6006],\n",
       "        [ 0.9590],\n",
       "        [ 0.1295],\n",
       "        [ 0.3627],\n",
       "        [ 0.5348],\n",
       "        [ 0.4222],\n",
       "        [ 0.7184],\n",
       "        [ 0.4734],\n",
       "        [ 0.6591],\n",
       "        [ 0.6069],\n",
       "        [ 0.8043],\n",
       "        [ 0.7480],\n",
       "        [ 0.6808],\n",
       "        [ 0.9554],\n",
       "        [ 0.8902],\n",
       "        [ 0.7578],\n",
       "        [ 0.5450],\n",
       "        [ 0.7077],\n",
       "        [ 0.7502],\n",
       "        [ 0.8524],\n",
       "        [ 0.4954],\n",
       "        [ 0.8426],\n",
       "        [ 0.7537],\n",
       "        [ 0.7665],\n",
       "        [ 1.5105],\n",
       "        [ 0.6086],\n",
       "        [ 0.6201],\n",
       "        [ 0.8024],\n",
       "        [ 0.4373],\n",
       "        [ 0.7035],\n",
       "        [ 0.9892],\n",
       "        [ 0.6137],\n",
       "        [ 0.5759],\n",
       "        [ 1.9109],\n",
       "        [ 0.3982],\n",
       "        [ 0.5836],\n",
       "        [ 0.3807],\n",
       "        [ 0.5033],\n",
       "        [ 0.8749],\n",
       "        [ 0.9667],\n",
       "        [ 0.7933],\n",
       "        [ 0.6258],\n",
       "        [ 0.7230],\n",
       "        [ 0.6093],\n",
       "        [ 0.8907],\n",
       "        [ 0.8487],\n",
       "        [ 0.5335],\n",
       "        [ 0.6016],\n",
       "        [ 0.7249],\n",
       "        [ 0.6455],\n",
       "        [ 0.8223],\n",
       "        [ 0.5365],\n",
       "        [ 0.7000],\n",
       "        [ 1.0816],\n",
       "        [ 0.9277],\n",
       "        [ 0.6728],\n",
       "        [ 0.9953],\n",
       "        [ 0.9795],\n",
       "        [ 0.7311],\n",
       "        [ 1.1695],\n",
       "        [ 0.9273],\n",
       "        [ 0.5065],\n",
       "        [ 0.7371],\n",
       "        [ 0.8861],\n",
       "        [ 0.5799],\n",
       "        [ 0.8728],\n",
       "        [ 0.3956],\n",
       "        [ 0.9918],\n",
       "        [ 0.6652],\n",
       "        [ 0.7085],\n",
       "        [ 0.8715],\n",
       "        [ 0.6199],\n",
       "        [ 0.7364],\n",
       "        [ 0.1216],\n",
       "        [ 0.4225],\n",
       "        [ 0.8464],\n",
       "        [ 0.0877],\n",
       "        [ 1.3710],\n",
       "        [ 0.7648],\n",
       "        [ 0.1075],\n",
       "        [ 0.2882],\n",
       "        [ 0.6908],\n",
       "        [ 0.9451],\n",
       "        [ 0.6695],\n",
       "        [ 0.7162],\n",
       "        [ 0.7265],\n",
       "        [ 0.6369],\n",
       "        [ 0.5641],\n",
       "        [ 0.5522],\n",
       "        [ 0.6063],\n",
       "        [ 0.2592],\n",
       "        [ 1.1628],\n",
       "        [ 0.4840],\n",
       "        [ 0.6247],\n",
       "        [ 0.6982],\n",
       "        [ 1.0209],\n",
       "        [ 0.8305],\n",
       "        [ 0.6613],\n",
       "        [ 0.7702],\n",
       "        [ 0.7144],\n",
       "        [ 0.1366],\n",
       "        [ 0.2791],\n",
       "        [ 0.4935],\n",
       "        [ 0.6563],\n",
       "        [ 0.7592],\n",
       "        [ 0.7203],\n",
       "        [ 0.7776],\n",
       "        [ 0.5782],\n",
       "        [ 0.4121],\n",
       "        [ 0.7106],\n",
       "        [ 0.8502],\n",
       "        [ 0.6770],\n",
       "        [ 0.9342],\n",
       "        [ 0.6707],\n",
       "        [ 0.0814],\n",
       "        [ 1.0067],\n",
       "        [ 1.4060],\n",
       "        [ 0.6840],\n",
       "        [ 0.8177],\n",
       "        [ 0.6489],\n",
       "        [ 1.0301],\n",
       "        [ 0.4058],\n",
       "        [ 1.0769],\n",
       "        [ 0.6527],\n",
       "        [ 0.8348],\n",
       "        [ 1.1826],\n",
       "        [ 0.1493],\n",
       "        [ 0.5198],\n",
       "        [ 0.5803],\n",
       "        [ 0.4082],\n",
       "        [ 0.7258],\n",
       "        [ 0.7266],\n",
       "        [ 0.7293],\n",
       "        [ 0.0740],\n",
       "        [ 1.1848],\n",
       "        [ 0.6941],\n",
       "        [ 0.6999],\n",
       "        [ 0.2725],\n",
       "        [ 0.6783],\n",
       "        [ 0.3660],\n",
       "        [ 1.1171],\n",
       "        [ 0.7272],\n",
       "        [ 0.6504],\n",
       "        [ 0.8968],\n",
       "        [ 0.8035],\n",
       "        [ 0.3982],\n",
       "        [ 0.5978],\n",
       "        [ 0.1870],\n",
       "        [ 1.0363],\n",
       "        [ 0.6013],\n",
       "        [ 0.9243],\n",
       "        [ 0.4432],\n",
       "        [ 1.1490],\n",
       "        [ 0.2803],\n",
       "        [ 0.7778],\n",
       "        [ 0.9463],\n",
       "        [ 0.2142],\n",
       "        [ 0.5091],\n",
       "        [ 0.7905],\n",
       "        [ 0.3050],\n",
       "        [ 0.9523],\n",
       "        [ 0.4868],\n",
       "        [ 0.4892],\n",
       "        [ 0.4677],\n",
       "        [ 0.6442],\n",
       "        [ 0.6034],\n",
       "        [ 1.0384],\n",
       "        [ 0.3737],\n",
       "        [ 0.8312],\n",
       "        [ 0.3356],\n",
       "        [ 0.7407],\n",
       "        [ 0.4053],\n",
       "        [ 0.2071],\n",
       "        [ 0.3450],\n",
       "        [ 0.5340],\n",
       "        [ 0.6290],\n",
       "        [ 0.4976],\n",
       "        [ 0.5935],\n",
       "        [ 0.9027],\n",
       "        [ 0.3654],\n",
       "        [ 0.6960],\n",
       "        [ 0.6695],\n",
       "        [ 0.5736],\n",
       "        [ 0.4401],\n",
       "        [ 0.8600],\n",
       "        [ 0.7946],\n",
       "        [ 0.7257],\n",
       "        [ 0.3909],\n",
       "        [ 1.1247],\n",
       "        [ 0.8141],\n",
       "        [ 1.0621],\n",
       "        [ 0.4719],\n",
       "        [ 0.8903],\n",
       "        [ 0.4770],\n",
       "        [ 1.0147],\n",
       "        [ 0.8661]], grad_fn=<AddmmBackward0>)"
      ]
     },
     "execution_count": 52,
     "metadata": {},
     "output_type": "execute_result"
    }
   ],
   "source": [
    "res"
   ]
  },
  {
   "cell_type": "code",
   "execution_count": 44,
   "metadata": {},
   "outputs": [],
   "source": [
    "def trainMod1(start_ep, num_ep, model):\n",
    "    for epoch in range(start_ep, num_ep+1):\n",
    "        tr_loss_epoch=0.0\n",
    "        model.train()\n",
    "        optimMod1.zero_grad()\n",
    "        output = model(xmod1_train)\n",
    "        loss = loss_MLF1(output[:,0], yTrain)\n",
    "        loss.backward()\n",
    "        print(loss.item())\n",
    "        tr_loss_epoch+=loss.item()\n",
    "        print(tr_loss_epoch)\n",
    "        optimMod1.step()"
   ]
  },
  {
   "cell_type": "code",
   "execution_count": 50,
   "metadata": {},
   "outputs": [
    {
     "name": "stdout",
     "output_type": "stream",
     "text": [
      "258.7020568847656\n",
      "258.7020568847656\n"
     ]
    }
   ],
   "source": [
    "trainMod1(0,0,model1)"
   ]
  },
  {
   "cell_type": "markdown",
   "metadata": {},
   "source": [
    "### Compile model and show summary"
   ]
  },
  {
   "cell_type": "code",
   "execution_count": 8,
   "metadata": {},
   "outputs": [
    {
     "name": "stdout",
     "output_type": "stream",
     "text": [
      "WARNING:tensorflow:From C:\\Users\\a95826ar.DS\\AppData\\Local\\Programs\\Python\\Python310\\lib\\site-packages\\keras\\src\\optimizers\\__init__.py:309: The name tf.train.Optimizer is deprecated. Please use tf.compat.v1.train.Optimizer instead.\n",
      "\n"
     ]
    }
   ],
   "source": [
    "model1.compile(optimizer='adam',loss='mean_squared_error',metrics=['accuracy'])"
   ]
  },
  {
   "cell_type": "code",
   "execution_count": 9,
   "metadata": {},
   "outputs": [
    {
     "name": "stdout",
     "output_type": "stream",
     "text": [
      "Model: \"sequential\"\n",
      "_________________________________________________________________\n",
      " Layer (type)                Output Shape              Param #   \n",
      "=================================================================\n",
      " dense (Dense)               (None, 10)                30        \n",
      "                                                                 \n",
      " dense_1 (Dense)             (None, 20)                220       \n",
      "                                                                 \n",
      " dense_2 (Dense)             (None, 10)                210       \n",
      "                                                                 \n",
      " dense_3 (Dense)             (None, 1)                 11        \n",
      "                                                                 \n",
      "=================================================================\n",
      "Total params: 471 (1.84 KB)\n",
      "Trainable params: 471 (1.84 KB)\n",
      "Non-trainable params: 0 (0.00 Byte)\n",
      "_________________________________________________________________\n"
     ]
    }
   ],
   "source": [
    "model1.summary()"
   ]
  },
  {
   "cell_type": "markdown",
   "metadata": {},
   "source": [
    "### Select data"
   ]
  },
  {
   "cell_type": "code",
   "execution_count": 10,
   "metadata": {},
   "outputs": [],
   "source": []
  },
  {
   "cell_type": "code",
   "execution_count": 11,
   "metadata": {},
   "outputs": [
    {
     "name": "stdout",
     "output_type": "stream",
     "text": [
      "(592, 2)\n",
      "(592,)\n",
      "(255, 2)\n",
      "(255,)\n"
     ]
    }
   ],
   "source": [
    "print(xmod1_train.shape)\n",
    "print(ymod_train.shape)\n",
    "print(xmod1_test.shape)\n",
    "print(ymod_test.shape)"
   ]
  },
  {
   "cell_type": "markdown",
   "metadata": {},
   "source": [
    "### Train model"
   ]
  },
  {
   "cell_type": "code",
   "execution_count": 12,
   "metadata": {},
   "outputs": [
    {
     "name": "stdout",
     "output_type": "stream",
     "text": [
      "Epoch 1/10\n",
      "WARNING:tensorflow:From C:\\Users\\a95826ar.DS\\AppData\\Local\\Programs\\Python\\Python310\\lib\\site-packages\\keras\\src\\utils\\tf_utils.py:492: The name tf.ragged.RaggedTensorValue is deprecated. Please use tf.compat.v1.ragged.RaggedTensorValue instead.\n",
      "\n",
      "WARNING:tensorflow:From C:\\Users\\a95826ar.DS\\AppData\\Local\\Programs\\Python\\Python310\\lib\\site-packages\\keras\\src\\engine\\base_layer_utils.py:384: The name tf.executing_eagerly_outside_functions is deprecated. Please use tf.compat.v1.executing_eagerly_outside_functions instead.\n",
      "\n",
      "19/19 [==============================] - 1s 9ms/step - loss: 258.6527 - accuracy: 0.0051 - val_loss: 222.7406 - val_accuracy: 0.0314\n",
      "Epoch 2/10\n",
      "19/19 [==============================] - 0s 3ms/step - loss: 166.3397 - accuracy: 0.0321 - val_loss: 131.2444 - val_accuracy: 0.0471\n",
      "Epoch 3/10\n",
      "19/19 [==============================] - 0s 3ms/step - loss: 93.9967 - accuracy: 0.0338 - val_loss: 63.1019 - val_accuracy: 0.0471\n",
      "Epoch 4/10\n",
      "19/19 [==============================] - 0s 3ms/step - loss: 44.4842 - accuracy: 0.0338 - val_loss: 28.4412 - val_accuracy: 0.0471\n",
      "Epoch 5/10\n",
      "19/19 [==============================] - 0s 3ms/step - loss: 23.6998 - accuracy: 0.0338 - val_loss: 19.7606 - val_accuracy: 0.0471\n",
      "Epoch 6/10\n",
      "19/19 [==============================] - 0s 3ms/step - loss: 19.3385 - accuracy: 0.0338 - val_loss: 19.7950 - val_accuracy: 0.0471\n",
      "Epoch 7/10\n",
      "19/19 [==============================] - 0s 3ms/step - loss: 18.4998 - accuracy: 0.0338 - val_loss: 19.1091 - val_accuracy: 0.0471\n",
      "Epoch 8/10\n",
      "19/19 [==============================] - 0s 3ms/step - loss: 17.9859 - accuracy: 0.0338 - val_loss: 18.6367 - val_accuracy: 0.0471\n",
      "Epoch 9/10\n",
      "19/19 [==============================] - 0s 3ms/step - loss: 17.4360 - accuracy: 0.0338 - val_loss: 18.3324 - val_accuracy: 0.0471\n",
      "Epoch 10/10\n",
      "19/19 [==============================] - 0s 3ms/step - loss: 16.9638 - accuracy: 0.0338 - val_loss: 18.1335 - val_accuracy: 0.0471\n"
     ]
    }
   ],
   "source": [
    "histo1=model1.fit(xmod1_train,ymod_train,epochs=10,validation_data=(xmod1_test,ymod_test))"
   ]
  },
  {
   "cell_type": "code",
   "execution_count": 24,
   "metadata": {},
   "outputs": [
    {
     "data": {
      "text/plain": [
       "[<matplotlib.lines.Line2D at 0x129642b7d00>]"
      ]
     },
     "execution_count": 24,
     "metadata": {},
     "output_type": "execute_result"
    },
    {
     "data": {
      "image/png": "[encoded data removed]",
      "text/plain": [
       "<Figure size 432x288 with 1 Axes>"
      ]
     },
     "metadata": {
      "needs_background": "light"
     },
     "output_type": "display_data"
    }
   ],
   "source": [
    "plt.plot(histo1.history['loss'])\n",
    "plt.plot(histo1.history['val_loss'])"
   ]
  },
  {
   "cell_type": "code",
   "execution_count": 14,
   "metadata": {},
   "outputs": [
    {
     "name": "stdout",
     "output_type": "stream",
     "text": [
      "1/1 [==============================] - 0s 76ms/step\n"
     ]
    },
    {
     "data": {
      "text/plain": [
       "array([[16.894089 ],\n",
       "       [14.038999 ],\n",
       "       [ 9.4175205]], dtype=float32)"
      ]
     },
     "execution_count": 14,
     "metadata": {},
     "output_type": "execute_result"
    }
   ],
   "source": [
    "model1.predict(xmod1_test[:3])"
   ]
  },
  {
   "cell_type": "code",
   "execution_count": 15,
   "metadata": {},
   "outputs": [
    {
     "data": {
      "text/plain": [
       "array([16., 18.,  7.], dtype=float32)"
      ]
     },
     "execution_count": 15,
     "metadata": {},
     "output_type": "execute_result"
    }
   ],
   "source": [
    "ymod_test[:3]"
   ]
  },
  {
   "cell_type": "markdown",
   "metadata": {},
   "source": [
    "## Model 2: Final position average, standard deviation and median as input"
   ]
  },
  {
   "cell_type": "markdown",
   "metadata": {},
   "source": [
    "### Define model architecture"
   ]
  },
  {
   "cell_type": "code",
   "execution_count": 16,
   "metadata": {},
   "outputs": [],
   "source": [
    "model2=Sequential()\n",
    "model2.add(Dense(10,activation='relu',input_shape=(3,)))\n",
    "model2.add(Dense(20,activation='relu'))\n",
    "model2.add(Dense(10,activation='relu'))\n",
    "model2.add(Dense(1,activation='linear'))"
   ]
  },
  {
   "cell_type": "markdown",
   "metadata": {},
   "source": [
    "### Compile model and show summary"
   ]
  },
  {
   "cell_type": "code",
   "execution_count": 17,
   "metadata": {},
   "outputs": [
    {
     "name": "stdout",
     "output_type": "stream",
     "text": [
      "Model: \"sequential_1\"\n",
      "_________________________________________________________________\n",
      " Layer (type)                Output Shape              Param #   \n",
      "=================================================================\n",
      " dense_4 (Dense)             (None, 10)                40        \n",
      "                                                                 \n",
      " dense_5 (Dense)             (None, 20)                220       \n",
      "                                                                 \n",
      " dense_6 (Dense)             (None, 10)                210       \n",
      "                                                                 \n",
      " dense_7 (Dense)             (None, 1)                 11        \n",
      "                                                                 \n",
      "=================================================================\n",
      "Total params: 481 (1.88 KB)\n",
      "Trainable params: 481 (1.88 KB)\n",
      "Non-trainable params: 0 (0.00 Byte)\n",
      "_________________________________________________________________\n"
     ]
    }
   ],
   "source": [
    "model2.compile(optimizer='adam',loss='mean_squared_error',metrics=['accuracy'])\n",
    "\n",
    "model2.summary()"
   ]
  },
  {
   "cell_type": "markdown",
   "metadata": {},
   "source": [
    "### Select data"
   ]
  },
  {
   "cell_type": "code",
   "execution_count": 19,
   "metadata": {},
   "outputs": [
    {
     "name": "stdout",
     "output_type": "stream",
     "text": [
      "(592, 3)\n",
      "(592,)\n",
      "(255, 3)\n",
      "(255,)\n"
     ]
    }
   ],
   "source": [
    "xmod2_train=np.float32(Xall_train[['AvgFinalPos','StdDevFinalPos','MedianFinalPos']].values)\n",
    "xmod2_test=np.float32(Xall_test[['AvgFinalPos','StdDevFinalPos','MedianFinalPos']].values)\n",
    "ymod_train=np.float32(y_train.values)\n",
    "ymod_test=np.float32(y_test.values)\n",
    "\n",
    "print(xmod2_train.shape)\n",
    "print(ymod_train.shape)\n",
    "print(xmod2_test.shape)\n",
    "print(ymod_test.shape)"
   ]
  },
  {
   "cell_type": "markdown",
   "metadata": {},
   "source": [
    "### Train and evaluate model"
   ]
  },
  {
   "cell_type": "code",
   "execution_count": 20,
   "metadata": {},
   "outputs": [
    {
     "name": "stdout",
     "output_type": "stream",
     "text": [
      "Epoch 1/20\n",
      "19/19 [==============================] - 1s 9ms/step - loss: 212.0776 - accuracy: 0.0338 - val_loss: 189.2169 - val_accuracy: 0.0471\n",
      "Epoch 2/20\n",
      "19/19 [==============================] - 0s 3ms/step - loss: 137.9911 - accuracy: 0.0338 - val_loss: 113.0977 - val_accuracy: 0.0471\n",
      "Epoch 3/20\n",
      "19/19 [==============================] - 0s 3ms/step - loss: 73.3451 - accuracy: 0.0338 - val_loss: 54.8376 - val_accuracy: 0.0471\n",
      "Epoch 4/20\n",
      "19/19 [==============================] - 0s 3ms/step - loss: 40.0928 - accuracy: 0.0338 - val_loss: 36.8735 - val_accuracy: 0.0471\n",
      "Epoch 5/20\n",
      "19/19 [==============================] - 0s 3ms/step - loss: 32.2570 - accuracy: 0.0338 - val_loss: 31.7043 - val_accuracy: 0.0471\n",
      "Epoch 6/20\n",
      "19/19 [==============================] - 0s 3ms/step - loss: 27.9786 - accuracy: 0.0338 - val_loss: 27.9223 - val_accuracy: 0.0471\n",
      "Epoch 7/20\n",
      "19/19 [==============================] - 0s 3ms/step - loss: 24.8204 - accuracy: 0.0338 - val_loss: 24.8538 - val_accuracy: 0.0471\n",
      "Epoch 8/20\n",
      "19/19 [==============================] - 0s 3ms/step - loss: 22.5560 - accuracy: 0.0338 - val_loss: 22.9267 - val_accuracy: 0.0471\n",
      "Epoch 9/20\n",
      "19/19 [==============================] - 0s 3ms/step - loss: 21.2277 - accuracy: 0.0338 - val_loss: 21.4689 - val_accuracy: 0.0471\n",
      "Epoch 10/20\n",
      "19/19 [==============================] - 0s 3ms/step - loss: 20.2330 - accuracy: 0.0338 - val_loss: 20.7734 - val_accuracy: 0.0471\n",
      "Epoch 11/20\n",
      "19/19 [==============================] - 0s 3ms/step - loss: 19.5035 - accuracy: 0.0338 - val_loss: 20.1227 - val_accuracy: 0.0471\n",
      "Epoch 12/20\n",
      "19/19 [==============================] - 0s 3ms/step - loss: 19.0086 - accuracy: 0.0338 - val_loss: 19.8902 - val_accuracy: 0.0471\n",
      "Epoch 13/20\n",
      "19/19 [==============================] - 0s 3ms/step - loss: 18.5695 - accuracy: 0.0338 - val_loss: 19.5542 - val_accuracy: 0.0471\n",
      "Epoch 14/20\n",
      "19/19 [==============================] - 0s 3ms/step - loss: 18.2430 - accuracy: 0.0338 - val_loss: 19.2463 - val_accuracy: 0.0471\n",
      "Epoch 15/20\n",
      "19/19 [==============================] - 0s 3ms/step - loss: 17.9461 - accuracy: 0.0338 - val_loss: 19.1145 - val_accuracy: 0.0471\n",
      "Epoch 16/20\n",
      "19/19 [==============================] - 0s 3ms/step - loss: 17.6793 - accuracy: 0.0338 - val_loss: 18.9962 - val_accuracy: 0.0471\n",
      "Epoch 17/20\n",
      "19/19 [==============================] - 0s 3ms/step - loss: 17.5010 - accuracy: 0.0338 - val_loss: 18.9016 - val_accuracy: 0.0471\n",
      "Epoch 18/20\n",
      "19/19 [==============================] - 0s 3ms/step - loss: 17.2325 - accuracy: 0.0338 - val_loss: 18.9714 - val_accuracy: 0.0471\n",
      "Epoch 19/20\n",
      "19/19 [==============================] - 0s 3ms/step - loss: 17.0601 - accuracy: 0.0338 - val_loss: 18.9716 - val_accuracy: 0.0471\n",
      "Epoch 20/20\n",
      "19/19 [==============================] - 0s 3ms/step - loss: 16.7838 - accuracy: 0.0338 - val_loss: 18.2538 - val_accuracy: 0.0471\n"
     ]
    }
   ],
   "source": [
    "histo2=model2.fit(xmod2_train,ymod_train,epochs=17,validation_data=(xmod2_test,ymod_test))"
   ]
  },
  {
   "cell_type": "code",
   "execution_count": 21,
   "metadata": {},
   "outputs": [
    {
     "data": {
      "text/plain": [
       "[<matplotlib.lines.Line2D at 0x12962a883a0>]"
      ]
     },
     "execution_count": 21,
     "metadata": {},
     "output_type": "execute_result"
    },
    {
     "data": {
      "image/png": "[encoded data removed]",
      "text/plain": [
       "<Figure size 432x288 with 1 Axes>"
      ]
     },
     "metadata": {
      "needs_background": "light"
     },
     "output_type": "display_data"
    }
   ],
   "source": [
    "plt.plot(histo2.history['loss'])\n",
    "plt.plot(histo2.history['val_loss'])"
   ]
  },
  {
   "cell_type": "code",
   "execution_count": 22,
   "metadata": {},
   "outputs": [
    {
     "name": "stdout",
     "output_type": "stream",
     "text": [
      "1/1 [==============================] - 0s 57ms/step\n"
     ]
    },
    {
     "data": {
      "text/plain": [
       "array([[16.271484 ],\n",
       "       [13.511462 ],\n",
       "       [ 7.3186097]], dtype=float32)"
      ]
     },
     "execution_count": 22,
     "metadata": {},
     "output_type": "execute_result"
    }
   ],
   "source": [
    "model2.predict(xmod2_test[:3])"
   ]
  },
  {
   "cell_type": "code",
   "execution_count": 23,
   "metadata": {},
   "outputs": [
    {
     "data": {
      "text/plain": [
       "array([16., 18.,  7.], dtype=float32)"
      ]
     },
     "execution_count": 23,
     "metadata": {},
     "output_type": "execute_result"
    }
   ],
   "source": [
    "ymod_test[:3]"
   ]
  },
  {
   "cell_type": "markdown",
   "metadata": {},
   "source": [
    "## Model 3: Mean and standard deviation of grid and final race position"
   ]
  },
  {
   "cell_type": "markdown",
   "metadata": {},
   "source": [
    "### Define model architecture"
   ]
  },
  {
   "cell_type": "code",
   "execution_count": 25,
   "metadata": {},
   "outputs": [],
   "source": [
    "model3=Sequential()\n",
    "model3.add(Dense(10,activation='relu',input_shape=(4,)))\n",
    "model3.add(Dense(20,activation='relu'))\n",
    "model3.add(Dense(10,activation='relu'))\n",
    "model3.add(Dense(1,activation='linear'))"
   ]
  },
  {
   "cell_type": "markdown",
   "metadata": {},
   "source": [
    "### Compile model and show summary"
   ]
  },
  {
   "cell_type": "code",
   "execution_count": 26,
   "metadata": {},
   "outputs": [
    {
     "name": "stdout",
     "output_type": "stream",
     "text": [
      "Model: \"sequential_2\"\n",
      "_________________________________________________________________\n",
      " Layer (type)                Output Shape              Param #   \n",
      "=================================================================\n",
      " dense_8 (Dense)             (None, 10)                50        \n",
      "                                                                 \n",
      " dense_9 (Dense)             (None, 20)                220       \n",
      "                                                                 \n",
      " dense_10 (Dense)            (None, 10)                210       \n",
      "                                                                 \n",
      " dense_11 (Dense)            (None, 1)                 11        \n",
      "                                                                 \n",
      "=================================================================\n",
      "Total params: 491 (1.92 KB)\n",
      "Trainable params: 491 (1.92 KB)\n",
      "Non-trainable params: 0 (0.00 Byte)\n",
      "_________________________________________________________________\n"
     ]
    }
   ],
   "source": [
    "model3.compile(optimizer='adam',loss='mean_squared_error',metrics=['accuracy'])\n",
    "\n",
    "model3.summary()"
   ]
  },
  {
   "cell_type": "markdown",
   "metadata": {},
   "source": [
    "### Select data"
   ]
  },
  {
   "cell_type": "code",
   "execution_count": 28,
   "metadata": {},
   "outputs": [
    {
     "data": {
      "text/plain": [
       "Index(['Year', 'RaceResults', 'GridPos', 'QualiRes', 'NumRaces', 'AvgFinalPos',\n",
       "       'StdDevFinalPos', 'MedianFinalPos', 'AvgStartPos', 'StdDevStartPos',\n",
       "       'MedianStartPos'],\n",
       "      dtype='object')"
      ]
     },
     "execution_count": 28,
     "metadata": {},
     "output_type": "execute_result"
    }
   ],
   "source": [
    "Xall_train.columns"
   ]
  },
  {
   "cell_type": "code",
   "execution_count": 29,
   "metadata": {},
   "outputs": [
    {
     "name": "stdout",
     "output_type": "stream",
     "text": [
      "(592, 4)\n",
      "(592,)\n",
      "(255, 4)\n",
      "(255,)\n"
     ]
    }
   ],
   "source": [
    "xmod3_train=np.float32(Xall_train[['AvgFinalPos','StdDevFinalPos','AvgStartPos','StdDevStartPos']].values)\n",
    "xmod3_test=np.float32(Xall_test[['AvgFinalPos','StdDevFinalPos','AvgStartPos','StdDevStartPos']].values)\n",
    "ymod_train=np.float32(y_train.values)\n",
    "ymod_test=np.float32(y_test.values)\n",
    "\n",
    "print(xmod3_train.shape)\n",
    "print(ymod_train.shape)\n",
    "print(xmod3_test.shape)\n",
    "print(ymod_test.shape)"
   ]
  },
  {
   "cell_type": "markdown",
   "metadata": {},
   "source": [
    "### Train and evaluate model"
   ]
  },
  {
   "cell_type": "code",
   "execution_count": 30,
   "metadata": {},
   "outputs": [
    {
     "name": "stdout",
     "output_type": "stream",
     "text": [
      "Epoch 1/20\n",
      "19/19 [==============================] - 1s 8ms/step - loss: 246.4675 - accuracy: 0.0034 - val_loss: 232.4904 - val_accuracy: 0.0196\n",
      "Epoch 2/20\n",
      "19/19 [==============================] - 0s 3ms/step - loss: 189.5083 - accuracy: 0.0338 - val_loss: 167.6683 - val_accuracy: 0.0471\n",
      "Epoch 3/20\n",
      "19/19 [==============================] - 0s 3ms/step - loss: 130.3597 - accuracy: 0.0338 - val_loss: 101.3702 - val_accuracy: 0.0471\n",
      "Epoch 4/20\n",
      "19/19 [==============================] - 0s 3ms/step - loss: 70.2211 - accuracy: 0.0338 - val_loss: 42.2355 - val_accuracy: 0.0471\n",
      "Epoch 5/20\n",
      "19/19 [==============================] - 0s 3ms/step - loss: 29.3897 - accuracy: 0.0338 - val_loss: 21.6815 - val_accuracy: 0.0471\n",
      "Epoch 6/20\n",
      "19/19 [==============================] - 0s 4ms/step - loss: 21.1809 - accuracy: 0.0338 - val_loss: 21.3681 - val_accuracy: 0.0471\n",
      "Epoch 7/20\n",
      "19/19 [==============================] - 0s 3ms/step - loss: 20.0785 - accuracy: 0.0338 - val_loss: 20.1044 - val_accuracy: 0.0471\n",
      "Epoch 8/20\n",
      "19/19 [==============================] - 0s 3ms/step - loss: 18.4531 - accuracy: 0.0338 - val_loss: 19.2773 - val_accuracy: 0.0471\n",
      "Epoch 9/20\n",
      "19/19 [==============================] - 0s 3ms/step - loss: 17.0686 - accuracy: 0.0338 - val_loss: 18.3863 - val_accuracy: 0.0471\n",
      "Epoch 10/20\n",
      "19/19 [==============================] - 0s 4ms/step - loss: 15.7794 - accuracy: 0.0338 - val_loss: 17.5394 - val_accuracy: 0.0471\n",
      "Epoch 11/20\n",
      "19/19 [==============================] - 0s 3ms/step - loss: 14.2198 - accuracy: 0.0321 - val_loss: 16.0674 - val_accuracy: 0.0392\n",
      "Epoch 12/20\n",
      "19/19 [==============================] - 0s 3ms/step - loss: 13.4681 - accuracy: 0.0253 - val_loss: 15.6434 - val_accuracy: 0.0353\n",
      "Epoch 13/20\n",
      "19/19 [==============================] - 0s 4ms/step - loss: 12.9510 - accuracy: 0.0270 - val_loss: 15.2408 - val_accuracy: 0.0353\n",
      "Epoch 14/20\n",
      "19/19 [==============================] - 0s 3ms/step - loss: 12.6761 - accuracy: 0.0270 - val_loss: 15.0909 - val_accuracy: 0.0353\n",
      "Epoch 15/20\n",
      "19/19 [==============================] - 0s 3ms/step - loss: 12.5232 - accuracy: 0.0287 - val_loss: 15.0922 - val_accuracy: 0.0353\n",
      "Epoch 16/20\n",
      "19/19 [==============================] - 0s 3ms/step - loss: 12.3726 - accuracy: 0.0287 - val_loss: 14.6895 - val_accuracy: 0.0353\n",
      "Epoch 17/20\n",
      "19/19 [==============================] - 0s 3ms/step - loss: 12.3244 - accuracy: 0.0287 - val_loss: 14.7475 - val_accuracy: 0.0353\n",
      "Epoch 18/20\n",
      "19/19 [==============================] - 0s 3ms/step - loss: 12.2526 - accuracy: 0.0304 - val_loss: 14.6607 - val_accuracy: 0.0431\n",
      "Epoch 19/20\n",
      "19/19 [==============================] - 0s 3ms/step - loss: 12.1819 - accuracy: 0.0338 - val_loss: 14.7803 - val_accuracy: 0.0431\n",
      "Epoch 20/20\n",
      "19/19 [==============================] - 0s 3ms/step - loss: 12.1172 - accuracy: 0.0338 - val_loss: 14.6873 - val_accuracy: 0.0471\n"
     ]
    }
   ],
   "source": [
    "histo3=model3.fit(xmod3_train,ymod_train,epochs=20,validation_data=(xmod3_test,ymod_test))"
   ]
  },
  {
   "cell_type": "code",
   "execution_count": 31,
   "metadata": {},
   "outputs": [
    {
     "data": {
      "text/plain": [
       "[<matplotlib.lines.Line2D at 0x129650aaa40>]"
      ]
     },
     "execution_count": 31,
     "metadata": {},
     "output_type": "execute_result"
    },
    {
     "data": {
      "image/png": "[encoded data removed]",
      "text/plain": [
       "<Figure size 432x288 with 1 Axes>"
      ]
     },
     "metadata": {
      "needs_background": "light"
     },
     "output_type": "display_data"
    }
   ],
   "source": [
    "plt.plot(histo3.history['loss'])\n",
    "plt.plot(histo3.history['val_loss'])"
   ]
  },
  {
   "cell_type": "code",
   "execution_count": 32,
   "metadata": {},
   "outputs": [
    {
     "name": "stdout",
     "output_type": "stream",
     "text": [
      "1/1 [==============================] - 0s 56ms/step\n"
     ]
    },
    {
     "data": {
      "text/plain": [
       "array([[13.980842],\n",
       "       [16.149017],\n",
       "       [ 6.568536]], dtype=float32)"
      ]
     },
     "execution_count": 32,
     "metadata": {},
     "output_type": "execute_result"
    }
   ],
   "source": [
    "model3.predict(xmod3_test[:3])"
   ]
  },
  {
   "cell_type": "code",
   "execution_count": 33,
   "metadata": {},
   "outputs": [
    {
     "data": {
      "text/plain": [
       "array([16., 18.,  7.], dtype=float32)"
      ]
     },
     "execution_count": 33,
     "metadata": {},
     "output_type": "execute_result"
    }
   ],
   "source": [
    "ymod_test[:3]"
   ]
  },
  {
   "cell_type": "markdown",
   "metadata": {},
   "source": [
    "## Model 4: Median and standard deviation of grid and final race position"
   ]
  },
  {
   "cell_type": "markdown",
   "metadata": {},
   "source": [
    "### Define model architecture"
   ]
  },
  {
   "cell_type": "code",
   "execution_count": 8,
   "metadata": {},
   "outputs": [
    {
     "name": "stdout",
     "output_type": "stream",
     "text": [
      "WARNING:tensorflow:From C:\\Users\\a95826ar.DS\\AppData\\Local\\Programs\\Python\\Python310\\lib\\site-packages\\keras\\src\\backend.py:873: The name tf.get_default_graph is deprecated. Please use tf.compat.v1.get_default_graph instead.\n",
      "\n"
     ]
    }
   ],
   "source": [
    "model4=Sequential()\n",
    "model4.add(Dense(10,activation='relu',input_shape=(4,)))\n",
    "model4.add(Dense(20,activation='relu'))\n",
    "model4.add(Dense(10,activation='relu'))\n",
    "model4.add(Dense(1,activation='linear'))"
   ]
  },
  {
   "cell_type": "markdown",
   "metadata": {},
   "source": [
    "### Compile model and show summary"
   ]
  },
  {
   "cell_type": "code",
   "execution_count": 9,
   "metadata": {},
   "outputs": [
    {
     "name": "stdout",
     "output_type": "stream",
     "text": [
      "WARNING:tensorflow:From C:\\Users\\a95826ar.DS\\AppData\\Local\\Programs\\Python\\Python310\\lib\\site-packages\\keras\\src\\optimizers\\__init__.py:309: The name tf.train.Optimizer is deprecated. Please use tf.compat.v1.train.Optimizer instead.\n",
      "\n",
      "Model: \"sequential\"\n",
      "_________________________________________________________________\n",
      " Layer (type)                Output Shape              Param #   \n",
      "=================================================================\n",
      " dense (Dense)               (None, 10)                50        \n",
      "                                                                 \n",
      " dense_1 (Dense)             (None, 20)                220       \n",
      "                                                                 \n",
      " dense_2 (Dense)             (None, 10)                210       \n",
      "                                                                 \n",
      " dense_3 (Dense)             (None, 1)                 11        \n",
      "                                                                 \n",
      "=================================================================\n",
      "Total params: 491 (1.92 KB)\n",
      "Trainable params: 491 (1.92 KB)\n",
      "Non-trainable params: 0 (0.00 Byte)\n",
      "_________________________________________________________________\n"
     ]
    }
   ],
   "source": [
    "model4.compile(optimizer='adam',loss='mean_squared_error',metrics=['accuracy'])\n",
    "\n",
    "model4.summary()"
   ]
  },
  {
   "cell_type": "markdown",
   "metadata": {},
   "source": [
    "### Select data"
   ]
  },
  {
   "cell_type": "code",
   "execution_count": 10,
   "metadata": {},
   "outputs": [
    {
     "data": {
      "text/plain": [
       "Index(['Year', 'RaceResults', 'GridPos', 'QualiRes', 'NumRaces', 'AvgFinalPos',\n",
       "       'StdDevFinalPos', 'MedianFinalPos', 'AvgStartPos', 'StdDevStartPos',\n",
       "       'MedianStartPos'],\n",
       "      dtype='object')"
      ]
     },
     "execution_count": 10,
     "metadata": {},
     "output_type": "execute_result"
    }
   ],
   "source": [
    "Xall_train.columns"
   ]
  },
  {
   "cell_type": "code",
   "execution_count": 11,
   "metadata": {},
   "outputs": [
    {
     "name": "stdout",
     "output_type": "stream",
     "text": [
      "(592, 4)\n",
      "(592,)\n",
      "(255, 4)\n",
      "(255,)\n"
     ]
    }
   ],
   "source": [
    "xmod4_train=np.float32(Xall_train[['MedianFinalPos','StdDevFinalPos','MedianStartPos','StdDevStartPos']].values)\n",
    "xmod4_test=np.float32(Xall_test[['MedianFinalPos','StdDevFinalPos','MedianStartPos','StdDevStartPos']].values)\n",
    "ymod_train=np.float32(y_train.values)\n",
    "ymod_test=np.float32(y_test.values)\n",
    "\n",
    "print(xmod4_train.shape)\n",
    "print(ymod_train.shape)\n",
    "print(xmod4_test.shape)\n",
    "print(ymod_test.shape)"
   ]
  },
  {
   "cell_type": "markdown",
   "metadata": {},
   "source": [
    "### Train and evaluate model"
   ]
  },
  {
   "cell_type": "code",
   "execution_count": 12,
   "metadata": {},
   "outputs": [
    {
     "name": "stdout",
     "output_type": "stream",
     "text": [
      "Epoch 1/20\n",
      "WARNING:tensorflow:From C:\\Users\\a95826ar.DS\\AppData\\Local\\Programs\\Python\\Python310\\lib\\site-packages\\keras\\src\\utils\\tf_utils.py:492: The name tf.ragged.RaggedTensorValue is deprecated. Please use tf.compat.v1.ragged.RaggedTensorValue instead.\n",
      "\n",
      "WARNING:tensorflow:From C:\\Users\\a95826ar.DS\\AppData\\Local\\Programs\\Python\\Python310\\lib\\site-packages\\keras\\src\\engine\\base_layer_utils.py:384: The name tf.executing_eagerly_outside_functions is deprecated. Please use tf.compat.v1.executing_eagerly_outside_functions instead.\n",
      "\n",
      "19/19 [==============================] - 1s 10ms/step - loss: 193.7970 - accuracy: 0.0321 - val_loss: 183.5309 - val_accuracy: 0.0471\n",
      "Epoch 2/20\n",
      "19/19 [==============================] - 0s 3ms/step - loss: 152.5099 - accuracy: 0.0338 - val_loss: 133.5065 - val_accuracy: 0.0471\n",
      "Epoch 3/20\n",
      "19/19 [==============================] - 0s 3ms/step - loss: 102.3183 - accuracy: 0.0338 - val_loss: 76.9590 - val_accuracy: 0.0471\n",
      "Epoch 4/20\n",
      "19/19 [==============================] - 0s 3ms/step - loss: 55.9799 - accuracy: 0.0338 - val_loss: 42.1324 - val_accuracy: 0.0471\n",
      "Epoch 5/20\n",
      "19/19 [==============================] - 0s 3ms/step - loss: 36.0420 - accuracy: 0.0338 - val_loss: 32.4222 - val_accuracy: 0.0471\n",
      "Epoch 6/20\n",
      "19/19 [==============================] - 0s 3ms/step - loss: 28.4685 - accuracy: 0.0338 - val_loss: 27.6759 - val_accuracy: 0.0471\n",
      "Epoch 7/20\n",
      "19/19 [==============================] - 0s 3ms/step - loss: 23.4769 - accuracy: 0.0338 - val_loss: 24.7606 - val_accuracy: 0.0471\n",
      "Epoch 8/20\n",
      "19/19 [==============================] - 0s 3ms/step - loss: 19.9501 - accuracy: 0.0338 - val_loss: 22.4530 - val_accuracy: 0.0471\n",
      "Epoch 9/20\n",
      "19/19 [==============================] - 0s 3ms/step - loss: 17.4700 - accuracy: 0.0338 - val_loss: 20.9231 - val_accuracy: 0.0471\n",
      "Epoch 10/20\n",
      "19/19 [==============================] - 0s 3ms/step - loss: 16.0535 - accuracy: 0.0338 - val_loss: 19.8906 - val_accuracy: 0.0471\n",
      "Epoch 11/20\n",
      "19/19 [==============================] - 0s 3ms/step - loss: 15.4299 - accuracy: 0.0338 - val_loss: 19.3895 - val_accuracy: 0.0471\n",
      "Epoch 12/20\n",
      "19/19 [==============================] - 0s 3ms/step - loss: 15.0911 - accuracy: 0.0338 - val_loss: 18.6241 - val_accuracy: 0.0471\n",
      "Epoch 13/20\n",
      "19/19 [==============================] - 0s 3ms/step - loss: 14.8026 - accuracy: 0.0338 - val_loss: 18.3117 - val_accuracy: 0.0471\n",
      "Epoch 14/20\n",
      "19/19 [==============================] - 0s 3ms/step - loss: 14.6262 - accuracy: 0.0338 - val_loss: 17.7161 - val_accuracy: 0.0471\n",
      "Epoch 15/20\n",
      "19/19 [==============================] - 0s 3ms/step - loss: 14.4386 - accuracy: 0.0338 - val_loss: 17.7982 - val_accuracy: 0.0471\n",
      "Epoch 16/20\n",
      "19/19 [==============================] - 0s 3ms/step - loss: 14.4342 - accuracy: 0.0338 - val_loss: 16.9460 - val_accuracy: 0.0471\n",
      "Epoch 17/20\n",
      "19/19 [==============================] - 0s 3ms/step - loss: 14.1813 - accuracy: 0.0338 - val_loss: 16.9499 - val_accuracy: 0.0471\n",
      "Epoch 18/20\n",
      "19/19 [==============================] - 0s 3ms/step - loss: 13.9654 - accuracy: 0.0338 - val_loss: 16.7409 - val_accuracy: 0.0471\n",
      "Epoch 19/20\n",
      "19/19 [==============================] - 0s 3ms/step - loss: 13.8428 - accuracy: 0.0338 - val_loss: 16.4177 - val_accuracy: 0.0471\n",
      "Epoch 20/20\n",
      "19/19 [==============================] - 0s 3ms/step - loss: 13.7937 - accuracy: 0.0338 - val_loss: 16.5601 - val_accuracy: 0.0471\n"
     ]
    }
   ],
   "source": [
    "histo4=model4.fit(xmod4_train,ymod_train,epochs=20,validation_data=(xmod4_test,ymod_test))"
   ]
  },
  {
   "cell_type": "code",
   "execution_count": 13,
   "metadata": {},
   "outputs": [
    {
     "data": {
      "text/plain": [
       "[<matplotlib.lines.Line2D at 0x1f71ad50070>]"
      ]
     },
     "execution_count": 13,
     "metadata": {},
     "output_type": "execute_result"
    },
    {
     "data": {
      "image/png": "[encoded data removed]",
      "text/plain": [
       "<Figure size 432x288 with 1 Axes>"
      ]
     },
     "metadata": {
      "needs_background": "light"
     },
     "output_type": "display_data"
    }
   ],
   "source": [
    "plt.plot(histo4.history['loss'])\n",
    "plt.plot(histo4.history['val_loss'])"
   ]
  },
  {
   "cell_type": "code",
   "execution_count": 15,
   "metadata": {},
   "outputs": [
    {
     "name": "stdout",
     "output_type": "stream",
     "text": [
      "1/1 [==============================] - 0s 75ms/step\n"
     ]
    },
    {
     "data": {
      "text/plain": [
       "array([[14.116458],\n",
       "       [18.545294],\n",
       "       [ 6.897211]], dtype=float32)"
      ]
     },
     "execution_count": 15,
     "metadata": {},
     "output_type": "execute_result"
    }
   ],
   "source": [
    "model4.predict(xmod4_test[:3])"
   ]
  },
  {
   "cell_type": "code",
   "execution_count": 16,
   "metadata": {},
   "outputs": [
    {
     "data": {
      "text/plain": [
       "array([16., 18.,  7.], dtype=float32)"
      ]
     },
     "execution_count": 16,
     "metadata": {},
     "output_type": "execute_result"
    }
   ],
   "source": [
    "ymod_test[:3]"
   ]
  },
  {
   "cell_type": "markdown",
   "metadata": {},
   "source": [
    "## Model 5: Mean and standard deviation of grid and final race position and number of entered races"
   ]
  },
  {
   "cell_type": "markdown",
   "metadata": {},
   "source": [
    "### Define model architecture"
   ]
  },
  {
   "cell_type": "code",
   "execution_count": 18,
   "metadata": {},
   "outputs": [],
   "source": [
    "model5=Sequential()\n",
    "model5.add(Dense(10,activation='relu',input_shape=(5,)))\n",
    "model5.add(Dense(20,activation='relu'))\n",
    "model5.add(Dense(10,activation='relu'))\n",
    "model5.add(Dense(1,activation='linear'))"
   ]
  },
  {
   "cell_type": "markdown",
   "metadata": {},
   "source": [
    "### Compile model and show summary"
   ]
  },
  {
   "cell_type": "code",
   "execution_count": 19,
   "metadata": {},
   "outputs": [
    {
     "name": "stdout",
     "output_type": "stream",
     "text": [
      "Model: \"sequential_1\"\n",
      "_________________________________________________________________\n",
      " Layer (type)                Output Shape              Param #   \n",
      "=================================================================\n",
      " dense_4 (Dense)             (None, 10)                60        \n",
      "                                                                 \n",
      " dense_5 (Dense)             (None, 20)                220       \n",
      "                                                                 \n",
      " dense_6 (Dense)             (None, 10)                210       \n",
      "                                                                 \n",
      " dense_7 (Dense)             (None, 1)                 11        \n",
      "                                                                 \n",
      "=================================================================\n",
      "Total params: 501 (1.96 KB)\n",
      "Trainable params: 501 (1.96 KB)\n",
      "Non-trainable params: 0 (0.00 Byte)\n",
      "_________________________________________________________________\n"
     ]
    }
   ],
   "source": [
    "model5.compile(optimizer='adam',loss='mean_squared_error',metrics=['accuracy'])\n",
    "\n",
    "model5.summary()"
   ]
  },
  {
   "cell_type": "markdown",
   "metadata": {},
   "source": [
    "### Select data"
   ]
  },
  {
   "cell_type": "code",
   "execution_count": 28,
   "metadata": {},
   "outputs": [
    {
     "data": {
      "text/plain": [
       "Index(['Year', 'RaceResults', 'GridPos', 'QualiRes', 'NumRaces', 'AvgFinalPos',\n",
       "       'StdDevFinalPos', 'MedianFinalPos', 'AvgStartPos', 'StdDevStartPos',\n",
       "       'MedianStartPos'],\n",
       "      dtype='object')"
      ]
     },
     "execution_count": 28,
     "metadata": {},
     "output_type": "execute_result"
    }
   ],
   "source": [
    "Xall_train.columns"
   ]
  },
  {
   "cell_type": "code",
   "execution_count": 20,
   "metadata": {},
   "outputs": [
    {
     "name": "stdout",
     "output_type": "stream",
     "text": [
      "(592, 5)\n",
      "(592,)\n",
      "(255, 5)\n",
      "(255,)\n"
     ]
    }
   ],
   "source": [
    "xmod5_train=np.float32(Xall_train[['AvgFinalPos','StdDevFinalPos','AvgStartPos','StdDevStartPos','NumRaces']].values)\n",
    "xmod5_test=np.float32(Xall_test[['AvgFinalPos','StdDevFinalPos','AvgStartPos','StdDevStartPos','NumRaces']].values)\n",
    "ymod_train=np.float32(y_train.values)\n",
    "ymod_test=np.float32(y_test.values)\n",
    "\n",
    "print(xmod5_train.shape)\n",
    "print(ymod_train.shape)\n",
    "print(xmod5_test.shape)\n",
    "print(ymod_test.shape)"
   ]
  },
  {
   "cell_type": "markdown",
   "metadata": {},
   "source": [
    "### Train and evaluate model"
   ]
  },
  {
   "cell_type": "code",
   "execution_count": 24,
   "metadata": {},
   "outputs": [
    {
     "name": "stdout",
     "output_type": "stream",
     "text": [
      "Epoch 1/20\n",
      "19/19 [==============================] - 1s 9ms/step - loss: 251.9569 - accuracy: 0.0338 - val_loss: 232.9885 - val_accuracy: 0.0471\n",
      "Epoch 2/20\n",
      "19/19 [==============================] - 0s 3ms/step - loss: 187.9537 - accuracy: 0.0338 - val_loss: 166.5904 - val_accuracy: 0.0471\n",
      "Epoch 3/20\n",
      "19/19 [==============================] - 0s 3ms/step - loss: 118.7348 - accuracy: 0.0338 - val_loss: 90.2136 - val_accuracy: 0.0471\n",
      "Epoch 4/20\n",
      "19/19 [==============================] - 0s 3ms/step - loss: 54.4107 - accuracy: 0.0338 - val_loss: 40.8329 - val_accuracy: 0.0471\n",
      "Epoch 5/20\n",
      "19/19 [==============================] - 0s 3ms/step - loss: 24.6282 - accuracy: 0.0338 - val_loss: 29.0164 - val_accuracy: 0.0471\n",
      "Epoch 6/20\n",
      "19/19 [==============================] - 0s 3ms/step - loss: 17.7913 - accuracy: 0.0338 - val_loss: 24.2476 - val_accuracy: 0.0471\n",
      "Epoch 7/20\n",
      "19/19 [==============================] - 0s 3ms/step - loss: 15.6775 - accuracy: 0.0338 - val_loss: 21.2350 - val_accuracy: 0.0471\n",
      "Epoch 8/20\n",
      "19/19 [==============================] - 0s 3ms/step - loss: 14.1349 - accuracy: 0.0338 - val_loss: 18.9303 - val_accuracy: 0.0431\n",
      "Epoch 9/20\n",
      "19/19 [==============================] - 0s 3ms/step - loss: 13.2221 - accuracy: 0.0338 - val_loss: 17.6514 - val_accuracy: 0.0431\n",
      "Epoch 10/20\n",
      "19/19 [==============================] - 0s 3ms/step - loss: 12.4472 - accuracy: 0.0338 - val_loss: 16.8629 - val_accuracy: 0.0431\n",
      "Epoch 11/20\n",
      "19/19 [==============================] - 0s 3ms/step - loss: 12.0436 - accuracy: 0.0338 - val_loss: 16.2767 - val_accuracy: 0.0392\n",
      "Epoch 12/20\n",
      "19/19 [==============================] - 0s 3ms/step - loss: 11.6428 - accuracy: 0.0321 - val_loss: 15.9362 - val_accuracy: 0.0392\n",
      "Epoch 13/20\n",
      "19/19 [==============================] - 0s 3ms/step - loss: 11.3182 - accuracy: 0.0321 - val_loss: 15.3709 - val_accuracy: 0.0392\n",
      "Epoch 14/20\n",
      "19/19 [==============================] - 0s 3ms/step - loss: 11.0609 - accuracy: 0.0321 - val_loss: 15.1794 - val_accuracy: 0.0392\n",
      "Epoch 15/20\n",
      "19/19 [==============================] - 0s 3ms/step - loss: 10.8175 - accuracy: 0.0321 - val_loss: 15.1040 - val_accuracy: 0.0392\n",
      "Epoch 16/20\n",
      "19/19 [==============================] - 0s 3ms/step - loss: 10.5295 - accuracy: 0.0321 - val_loss: 14.7492 - val_accuracy: 0.0392\n",
      "Epoch 17/20\n",
      "19/19 [==============================] - 0s 3ms/step - loss: 10.2923 - accuracy: 0.0321 - val_loss: 14.6658 - val_accuracy: 0.0392\n",
      "Epoch 18/20\n",
      "19/19 [==============================] - 0s 3ms/step - loss: 10.1291 - accuracy: 0.0321 - val_loss: 14.2969 - val_accuracy: 0.0392\n",
      "Epoch 19/20\n",
      "19/19 [==============================] - 0s 3ms/step - loss: 9.8746 - accuracy: 0.0321 - val_loss: 14.3876 - val_accuracy: 0.0431\n",
      "Epoch 20/20\n",
      "19/19 [==============================] - 0s 4ms/step - loss: 9.6672 - accuracy: 0.0338 - val_loss: 14.1223 - val_accuracy: 0.0431\n"
     ]
    }
   ],
   "source": [
    "histo5=model5.fit(xmod5_train,ymod_train,epochs=20,validation_data=(xmod5_test,ymod_test))"
   ]
  },
  {
   "cell_type": "code",
   "execution_count": 25,
   "metadata": {},
   "outputs": [
    {
     "data": {
      "text/plain": [
       "[<matplotlib.lines.Line2D at 0x1f71df81330>]"
      ]
     },
     "execution_count": 25,
     "metadata": {},
     "output_type": "execute_result"
    },
    {
     "data": {
      "image/png": "[encoded data removed]",
      "text/plain": [
       "<Figure size 432x288 with 1 Axes>"
      ]
     },
     "metadata": {
      "needs_background": "light"
     },
     "output_type": "display_data"
    }
   ],
   "source": [
    "plt.plot(histo5.history['loss'])\n",
    "plt.plot(histo5.history['val_loss'])"
   ]
  },
  {
   "cell_type": "code",
   "execution_count": 26,
   "metadata": {},
   "outputs": [
    {
     "name": "stdout",
     "output_type": "stream",
     "text": [
      "1/1 [==============================] - 0s 51ms/step\n"
     ]
    },
    {
     "data": {
      "text/plain": [
       "array([[18.285011 ],\n",
       "       [20.209135 ],\n",
       "       [ 7.8709855]], dtype=float32)"
      ]
     },
     "execution_count": 26,
     "metadata": {},
     "output_type": "execute_result"
    }
   ],
   "source": [
    "model5.predict(xmod5_test[:3])"
   ]
  },
  {
   "cell_type": "markdown",
   "metadata": {},
   "source": [
    "## Model 6: Mean and standard deviation of final race position and number of entered races"
   ]
  },
  {
   "cell_type": "markdown",
   "metadata": {},
   "source": [
    "### Define model architecture"
   ]
  },
  {
   "cell_type": "code",
   "execution_count": 34,
   "metadata": {},
   "outputs": [],
   "source": [
    "model6=Sequential()\n",
    "model6.add(Dense(10,activation='relu',input_shape=(3,)))\n",
    "model6.add(Dense(20,activation='relu'))\n",
    "model6.add(Dense(10,activation='relu'))\n",
    "model6.add(Dense(1,activation='linear'))"
   ]
  },
  {
   "cell_type": "markdown",
   "metadata": {},
   "source": [
    "### Compile model and show summary"
   ]
  },
  {
   "cell_type": "code",
   "execution_count": 35,
   "metadata": {},
   "outputs": [
    {
     "name": "stdout",
     "output_type": "stream",
     "text": [
      "Model: \"sequential_3\"\n",
      "_________________________________________________________________\n",
      " Layer (type)                Output Shape              Param #   \n",
      "=================================================================\n",
      " dense_12 (Dense)            (None, 10)                40        \n",
      "                                                                 \n",
      " dense_13 (Dense)            (None, 20)                220       \n",
      "                                                                 \n",
      " dense_14 (Dense)            (None, 10)                210       \n",
      "                                                                 \n",
      " dense_15 (Dense)            (None, 1)                 11        \n",
      "                                                                 \n",
      "=================================================================\n",
      "Total params: 481 (1.88 KB)\n",
      "Trainable params: 481 (1.88 KB)\n",
      "Non-trainable params: 0 (0.00 Byte)\n",
      "_________________________________________________________________\n"
     ]
    }
   ],
   "source": [
    "model6.compile(optimizer='adam',loss='mean_squared_error',metrics=['accuracy'])\n",
    "\n",
    "model6.summary()"
   ]
  },
  {
   "cell_type": "markdown",
   "metadata": {},
   "source": [
    "### Select data"
   ]
  },
  {
   "cell_type": "code",
   "execution_count": 36,
   "metadata": {},
   "outputs": [
    {
     "name": "stdout",
     "output_type": "stream",
     "text": [
      "(592, 3)\n",
      "(592,)\n",
      "(255, 3)\n",
      "(255,)\n"
     ]
    }
   ],
   "source": [
    "xmod6_train=np.float32(Xall_train[['AvgFinalPos','StdDevFinalPos','NumRaces']].values)\n",
    "xmod6_test=np.float32(Xall_test[['AvgFinalPos','StdDevFinalPos','NumRaces']].values)\n",
    "ymod_train=np.float32(y_train.values)\n",
    "ymod_test=np.float32(y_test.values)\n",
    "\n",
    "print(xmod6_train.shape)\n",
    "print(ymod_train.shape)\n",
    "print(xmod6_test.shape)\n",
    "print(ymod_test.shape)"
   ]
  },
  {
   "cell_type": "markdown",
   "metadata": {},
   "source": [
    "### Train and evaluate model"
   ]
  },
  {
   "cell_type": "code",
   "execution_count": 37,
   "metadata": {},
   "outputs": [
    {
     "name": "stdout",
     "output_type": "stream",
     "text": [
      "Epoch 1/20\n",
      "19/19 [==============================] - 1s 8ms/step - loss: 225.1812 - accuracy: 0.0338 - val_loss: 218.5652 - val_accuracy: 0.0471\n",
      "Epoch 2/20\n",
      "19/19 [==============================] - 0s 3ms/step - loss: 174.6737 - accuracy: 0.0338 - val_loss: 164.2532 - val_accuracy: 0.0471\n",
      "Epoch 3/20\n",
      "19/19 [==============================] - 0s 3ms/step - loss: 119.1077 - accuracy: 0.0338 - val_loss: 95.7908 - val_accuracy: 0.0471\n",
      "Epoch 4/20\n",
      "19/19 [==============================] - 0s 3ms/step - loss: 63.9408 - accuracy: 0.0338 - val_loss: 57.3773 - val_accuracy: 0.0471\n",
      "Epoch 5/20\n",
      "19/19 [==============================] - 0s 3ms/step - loss: 48.9896 - accuracy: 0.0338 - val_loss: 47.6588 - val_accuracy: 0.0471\n",
      "Epoch 6/20\n",
      "19/19 [==============================] - 0s 3ms/step - loss: 44.5962 - accuracy: 0.0338 - val_loss: 41.9261 - val_accuracy: 0.0471\n",
      "Epoch 7/20\n",
      "19/19 [==============================] - 0s 3ms/step - loss: 39.2017 - accuracy: 0.0338 - val_loss: 36.6774 - val_accuracy: 0.0471\n",
      "Epoch 8/20\n",
      "19/19 [==============================] - 0s 3ms/step - loss: 34.4110 - accuracy: 0.0338 - val_loss: 32.2389 - val_accuracy: 0.0471\n",
      "Epoch 9/20\n",
      "19/19 [==============================] - 0s 3ms/step - loss: 31.2765 - accuracy: 0.0338 - val_loss: 29.4710 - val_accuracy: 0.0471\n",
      "Epoch 10/20\n",
      "19/19 [==============================] - 0s 3ms/step - loss: 28.7358 - accuracy: 0.0338 - val_loss: 27.2352 - val_accuracy: 0.0471\n",
      "Epoch 11/20\n",
      "19/19 [==============================] - 0s 3ms/step - loss: 26.4879 - accuracy: 0.0338 - val_loss: 25.2513 - val_accuracy: 0.0471\n",
      "Epoch 12/20\n",
      "19/19 [==============================] - 0s 3ms/step - loss: 24.2607 - accuracy: 0.0338 - val_loss: 23.5385 - val_accuracy: 0.0471\n",
      "Epoch 13/20\n",
      "19/19 [==============================] - 0s 3ms/step - loss: 22.2755 - accuracy: 0.0338 - val_loss: 22.1269 - val_accuracy: 0.0471\n",
      "Epoch 14/20\n",
      "19/19 [==============================] - 0s 3ms/step - loss: 20.7348 - accuracy: 0.0338 - val_loss: 21.0169 - val_accuracy: 0.0471\n",
      "Epoch 15/20\n",
      "19/19 [==============================] - 0s 3ms/step - loss: 19.4696 - accuracy: 0.0338 - val_loss: 20.1512 - val_accuracy: 0.0471\n",
      "Epoch 16/20\n",
      "19/19 [==============================] - 0s 3ms/step - loss: 18.5776 - accuracy: 0.0338 - val_loss: 19.2089 - val_accuracy: 0.0471\n",
      "Epoch 17/20\n",
      "19/19 [==============================] - 0s 3ms/step - loss: 17.3793 - accuracy: 0.0338 - val_loss: 18.7457 - val_accuracy: 0.0471\n",
      "Epoch 18/20\n",
      "19/19 [==============================] - 0s 3ms/step - loss: 16.6819 - accuracy: 0.0338 - val_loss: 18.0551 - val_accuracy: 0.0471\n",
      "Epoch 19/20\n",
      "19/19 [==============================] - 0s 3ms/step - loss: 15.9821 - accuracy: 0.0338 - val_loss: 17.7276 - val_accuracy: 0.0471\n",
      "Epoch 20/20\n",
      "19/19 [==============================] - 0s 2ms/step - loss: 15.4018 - accuracy: 0.0338 - val_loss: 17.5158 - val_accuracy: 0.0471\n"
     ]
    }
   ],
   "source": [
    "histo6=model6.fit(xmod6_train,ymod_train,epochs=20,validation_data=(xmod6_test,ymod_test))"
   ]
  },
  {
   "cell_type": "code",
   "execution_count": 38,
   "metadata": {},
   "outputs": [
    {
     "data": {
      "text/plain": [
       "[<matplotlib.lines.Line2D at 0x1f721b27fd0>]"
      ]
     },
     "execution_count": 38,
     "metadata": {},
     "output_type": "execute_result"
    },
    {
     "data": {
      "image/png": "[encoded data removed]",
      "text/plain": [
       "<Figure size 432x288 with 1 Axes>"
      ]
     },
     "metadata": {
      "needs_background": "light"
     },
     "output_type": "display_data"
    }
   ],
   "source": [
    "plt.plot(histo6.history['loss'])\n",
    "plt.plot(histo6.history['val_loss'])"
   ]
  },
  {
   "cell_type": "code",
   "execution_count": 39,
   "metadata": {},
   "outputs": [
    {
     "name": "stdout",
     "output_type": "stream",
     "text": [
      "1/1 [==============================] - 0s 45ms/step\n"
     ]
    },
    {
     "data": {
      "text/plain": [
       "array([[19.724798],\n",
       "       [12.709128],\n",
       "       [ 8.678424]], dtype=float32)"
      ]
     },
     "execution_count": 39,
     "metadata": {},
     "output_type": "execute_result"
    }
   ],
   "source": [
    "model6.predict(xmod6_test[:3])"
   ]
  },
  {
   "cell_type": "markdown",
   "metadata": {},
   "source": [
    "## Model 7: Shallow and wide - Mean and standard deviation of grid and final race position and number of entered races"
   ]
  },
  {
   "cell_type": "markdown",
   "metadata": {},
   "source": [
    "### Define model architecture"
   ]
  },
  {
   "cell_type": "code",
   "execution_count": 43,
   "metadata": {},
   "outputs": [],
   "source": [
    "model7=Sequential()\n",
    "model7.add(Dense(200,activation='relu',input_shape=(5,)))\n",
    "model7.add(Dense(1,activation='linear'))"
   ]
  },
  {
   "cell_type": "markdown",
   "metadata": {},
   "source": [
    "### Compile model and show summary"
   ]
  },
  {
   "cell_type": "code",
   "execution_count": 44,
   "metadata": {},
   "outputs": [
    {
     "name": "stdout",
     "output_type": "stream",
     "text": [
      "Model: \"sequential_5\"\n",
      "_________________________________________________________________\n",
      " Layer (type)                Output Shape              Param #   \n",
      "=================================================================\n",
      " dense_18 (Dense)            (None, 200)               1200      \n",
      "                                                                 \n",
      " dense_19 (Dense)            (None, 1)                 201       \n",
      "                                                                 \n",
      "=================================================================\n",
      "Total params: 1401 (5.47 KB)\n",
      "Trainable params: 1401 (5.47 KB)\n",
      "Non-trainable params: 0 (0.00 Byte)\n",
      "_________________________________________________________________\n"
     ]
    }
   ],
   "source": [
    "model7.compile(optimizer='adam',loss='mean_squared_error',metrics=['accuracy'])\n",
    "\n",
    "model7.summary()"
   ]
  },
  {
   "cell_type": "markdown",
   "metadata": {},
   "source": [
    "### Select data"
   ]
  },
  {
   "cell_type": "code",
   "execution_count": 28,
   "metadata": {},
   "outputs": [
    {
     "data": {
      "text/plain": [
       "Index(['Year', 'RaceResults', 'GridPos', 'QualiRes', 'NumRaces', 'AvgFinalPos',\n",
       "       'StdDevFinalPos', 'MedianFinalPos', 'AvgStartPos', 'StdDevStartPos',\n",
       "       'MedianStartPos'],\n",
       "      dtype='object')"
      ]
     },
     "execution_count": 28,
     "metadata": {},
     "output_type": "execute_result"
    }
   ],
   "source": [
    "Xall_train.columns"
   ]
  },
  {
   "cell_type": "code",
   "execution_count": 45,
   "metadata": {},
   "outputs": [
    {
     "name": "stdout",
     "output_type": "stream",
     "text": [
      "(592, 5)\n",
      "(592,)\n",
      "(255, 5)\n",
      "(255,)\n"
     ]
    }
   ],
   "source": [
    "xmod7_train=np.float32(Xall_train[['AvgFinalPos','StdDevFinalPos','AvgStartPos','StdDevStartPos','NumRaces']].values)\n",
    "xmod7_test=np.float32(Xall_test[['AvgFinalPos','StdDevFinalPos','AvgStartPos','StdDevStartPos','NumRaces']].values)\n",
    "ymod_train=np.float32(y_train.values)\n",
    "ymod_test=np.float32(y_test.values)\n",
    "\n",
    "print(xmod7_train.shape)\n",
    "print(ymod_train.shape)\n",
    "print(xmod7_test.shape)\n",
    "print(ymod_test.shape)"
   ]
  },
  {
   "cell_type": "markdown",
   "metadata": {},
   "source": [
    "### Train and evaluate model"
   ]
  },
  {
   "cell_type": "code",
   "execution_count": 46,
   "metadata": {},
   "outputs": [
    {
     "name": "stdout",
     "output_type": "stream",
     "text": [
      "Epoch 1/20\n",
      "19/19 [==============================] - 0s 7ms/step - loss: 214.1116 - accuracy: 0.0135 - val_loss: 107.4000 - val_accuracy: 0.0471\n",
      "Epoch 2/20\n",
      "19/19 [==============================] - 0s 3ms/step - loss: 62.3843 - accuracy: 0.0338 - val_loss: 61.4872 - val_accuracy: 0.0471\n",
      "Epoch 3/20\n",
      "19/19 [==============================] - 0s 3ms/step - loss: 40.9646 - accuracy: 0.0338 - val_loss: 44.9529 - val_accuracy: 0.0471\n",
      "Epoch 4/20\n",
      "19/19 [==============================] - 0s 3ms/step - loss: 25.8612 - accuracy: 0.0338 - val_loss: 32.3926 - val_accuracy: 0.0471\n",
      "Epoch 5/20\n",
      "19/19 [==============================] - 0s 3ms/step - loss: 17.7606 - accuracy: 0.0304 - val_loss: 26.1366 - val_accuracy: 0.0392\n",
      "Epoch 6/20\n",
      "19/19 [==============================] - 0s 3ms/step - loss: 14.3441 - accuracy: 0.0236 - val_loss: 22.2729 - val_accuracy: 0.0235\n",
      "Epoch 7/20\n",
      "19/19 [==============================] - 0s 3ms/step - loss: 12.6377 - accuracy: 0.0220 - val_loss: 19.7559 - val_accuracy: 0.0235\n",
      "Epoch 8/20\n",
      "19/19 [==============================] - 0s 3ms/step - loss: 11.6049 - accuracy: 0.0220 - val_loss: 17.9266 - val_accuracy: 0.0275\n",
      "Epoch 9/20\n",
      "19/19 [==============================] - 0s 3ms/step - loss: 10.6829 - accuracy: 0.0236 - val_loss: 16.0785 - val_accuracy: 0.0275\n",
      "Epoch 10/20\n",
      "19/19 [==============================] - 0s 3ms/step - loss: 10.0172 - accuracy: 0.0253 - val_loss: 15.5329 - val_accuracy: 0.0392\n",
      "Epoch 11/20\n",
      "19/19 [==============================] - 0s 3ms/step - loss: 9.6442 - accuracy: 0.0270 - val_loss: 13.9159 - val_accuracy: 0.0235\n",
      "Epoch 12/20\n",
      "19/19 [==============================] - 0s 3ms/step - loss: 9.1405 - accuracy: 0.0236 - val_loss: 13.4351 - val_accuracy: 0.0353\n",
      "Epoch 13/20\n",
      "19/19 [==============================] - 0s 3ms/step - loss: 8.8159 - accuracy: 0.0236 - val_loss: 13.1564 - val_accuracy: 0.0392\n",
      "Epoch 14/20\n",
      "19/19 [==============================] - 0s 3ms/step - loss: 8.7714 - accuracy: 0.0236 - val_loss: 12.3140 - val_accuracy: 0.0392\n",
      "Epoch 15/20\n",
      "19/19 [==============================] - 0s 3ms/step - loss: 8.3262 - accuracy: 0.0270 - val_loss: 12.0815 - val_accuracy: 0.0392\n",
      "Epoch 16/20\n",
      "19/19 [==============================] - 0s 3ms/step - loss: 8.1437 - accuracy: 0.0236 - val_loss: 11.7587 - val_accuracy: 0.0392\n",
      "Epoch 17/20\n",
      "19/19 [==============================] - 0s 3ms/step - loss: 8.0516 - accuracy: 0.0270 - val_loss: 12.2214 - val_accuracy: 0.0392\n",
      "Epoch 18/20\n",
      "19/19 [==============================] - 0s 3ms/step - loss: 7.9800 - accuracy: 0.0270 - val_loss: 11.6633 - val_accuracy: 0.0392\n",
      "Epoch 19/20\n",
      "19/19 [==============================] - 0s 3ms/step - loss: 7.8309 - accuracy: 0.0270 - val_loss: 11.7627 - val_accuracy: 0.0392\n",
      "Epoch 20/20\n",
      "19/19 [==============================] - 0s 3ms/step - loss: 7.8871 - accuracy: 0.0287 - val_loss: 11.5621 - val_accuracy: 0.0392\n"
     ]
    }
   ],
   "source": [
    "histo7=model7.fit(xmod7_train,ymod_train,epochs=20,validation_data=(xmod7_test,ymod_test))"
   ]
  },
  {
   "cell_type": "code",
   "execution_count": 47,
   "metadata": {},
   "outputs": [
    {
     "data": {
      "text/plain": [
       "[<matplotlib.lines.Line2D at 0x1f722cbddb0>]"
      ]
     },
     "execution_count": 47,
     "metadata": {},
     "output_type": "execute_result"
    },
    {
     "data": {
      "image/png": "[encoded data removed]",
      "text/plain": [
       "<Figure size 432x288 with 1 Axes>"
      ]
     },
     "metadata": {
      "needs_background": "light"
     },
     "output_type": "display_data"
    }
   ],
   "source": [
    "plt.plot(histo7.history['loss'])\n",
    "plt.plot(histo7.history['val_loss'])"
   ]
  },
  {
   "cell_type": "code",
   "execution_count": 48,
   "metadata": {},
   "outputs": [
    {
     "name": "stdout",
     "output_type": "stream",
     "text": [
      "1/1 [==============================] - 0s 36ms/step\n"
     ]
    },
    {
     "data": {
      "text/plain": [
       "array([[15.390786],\n",
       "       [18.253681],\n",
       "       [ 7.160033]], dtype=float32)"
      ]
     },
     "execution_count": 48,
     "metadata": {},
     "output_type": "execute_result"
    }
   ],
   "source": [
    "model7.predict(xmod5_test[:3])"
   ]
  },
  {
   "cell_type": "code",
   "execution_count": 49,
   "metadata": {},
   "outputs": [
    {
     "data": {
      "text/plain": [
       "array([16., 18.,  7.], dtype=float32)"
      ]
     },
     "execution_count": 49,
     "metadata": {},
     "output_type": "execute_result"
    }
   ],
   "source": [
    "ymod_test[:3]"
   ]
  },
  {
   "cell_type": "markdown",
   "metadata": {},
   "source": [
    "## Model 8: Deep and narrow - Mean and standard deviation of grid and final race position and number of entered races"
   ]
  },
  {
   "cell_type": "markdown",
   "metadata": {},
   "source": [
    "### Define model architecture"
   ]
  },
  {
   "cell_type": "code",
   "execution_count": 51,
   "metadata": {},
   "outputs": [],
   "source": [
    "model8=Sequential()\n",
    "model8.add(Dense(10,activation='relu',input_shape=(5,)))\n",
    "model8.add(Dense(10,activation='relu'))\n",
    "model8.add(Dense(10,activation='relu'))\n",
    "model8.add(Dense(10,activation='relu'))\n",
    "model8.add(Dense(10,activation='relu'))\n",
    "model8.add(Dense(10,activation='relu'))\n",
    "model8.add(Dense(10,activation='relu'))\n",
    "model8.add(Dense(10,activation='relu'))\n",
    "model8.add(Dense(10,activation='relu'))\n",
    "model8.add(Dense(10,activation='relu'))\n",
    "model8.add(Dense(1,activation='linear'))"
   ]
  },
  {
   "cell_type": "markdown",
   "metadata": {},
   "source": [
    "### Compile model and show summary"
   ]
  },
  {
   "cell_type": "code",
   "execution_count": 52,
   "metadata": {},
   "outputs": [
    {
     "name": "stdout",
     "output_type": "stream",
     "text": [
      "Model: \"sequential_7\"\n",
      "_________________________________________________________________\n",
      " Layer (type)                Output Shape              Param #   \n",
      "=================================================================\n",
      " dense_31 (Dense)            (None, 10)                60        \n",
      "                                                                 \n",
      " dense_32 (Dense)            (None, 10)                110       \n",
      "                                                                 \n",
      " dense_33 (Dense)            (None, 10)                110       \n",
      "                                                                 \n",
      " dense_34 (Dense)            (None, 10)                110       \n",
      "                                                                 \n",
      " dense_35 (Dense)            (None, 10)                110       \n",
      "                                                                 \n",
      " dense_36 (Dense)            (None, 10)                110       \n",
      "                                                                 \n",
      " dense_37 (Dense)            (None, 10)                110       \n",
      "                                                                 \n",
      " dense_38 (Dense)            (None, 10)                110       \n",
      "                                                                 \n",
      " dense_39 (Dense)            (None, 10)                110       \n",
      "                                                                 \n",
      " dense_40 (Dense)            (None, 10)                110       \n",
      "                                                                 \n",
      " dense_41 (Dense)            (None, 1)                 11        \n",
      "                                                                 \n",
      "=================================================================\n",
      "Total params: 1061 (4.14 KB)\n",
      "Trainable params: 1061 (4.14 KB)\n",
      "Non-trainable params: 0 (0.00 Byte)\n",
      "_________________________________________________________________\n"
     ]
    }
   ],
   "source": [
    "model8.compile(optimizer='adam',loss='mean_squared_error',metrics=['accuracy'])\n",
    "\n",
    "model8.summary()"
   ]
  },
  {
   "cell_type": "markdown",
   "metadata": {},
   "source": [
    "### Select data"
   ]
  },
  {
   "cell_type": "code",
   "execution_count": 53,
   "metadata": {},
   "outputs": [
    {
     "data": {
      "text/plain": [
       "Index(['Year', 'RaceResults', 'GridPos', 'QualiRes', 'NumRaces', 'AvgFinalPos',\n",
       "       'StdDevFinalPos', 'MedianFinalPos', 'AvgStartPos', 'StdDevStartPos',\n",
       "       'MedianStartPos'],\n",
       "      dtype='object')"
      ]
     },
     "execution_count": 53,
     "metadata": {},
     "output_type": "execute_result"
    }
   ],
   "source": [
    "Xall_train.columns"
   ]
  },
  {
   "cell_type": "code",
   "execution_count": 54,
   "metadata": {},
   "outputs": [
    {
     "name": "stdout",
     "output_type": "stream",
     "text": [
      "(592, 5)\n",
      "(592,)\n",
      "(255, 5)\n",
      "(255,)\n"
     ]
    }
   ],
   "source": [
    "xmod8_train=np.float32(Xall_train[['AvgFinalPos','StdDevFinalPos','AvgStartPos','StdDevStartPos','NumRaces']].values)\n",
    "xmod8_test=np.float32(Xall_test[['AvgFinalPos','StdDevFinalPos','AvgStartPos','StdDevStartPos','NumRaces']].values)\n",
    "ymod_train=np.float32(y_train.values)\n",
    "ymod_test=np.float32(y_test.values)\n",
    "\n",
    "print(xmod8_train.shape)\n",
    "print(ymod_train.shape)\n",
    "print(xmod8_test.shape)\n",
    "print(ymod_test.shape)"
   ]
  },
  {
   "cell_type": "markdown",
   "metadata": {},
   "source": [
    "### Train and evaluate model"
   ]
  },
  {
   "cell_type": "code",
   "execution_count": 55,
   "metadata": {},
   "outputs": [
    {
     "name": "stdout",
     "output_type": "stream",
     "text": [
      "Epoch 1/20\n",
      "19/19 [==============================] - 1s 10ms/step - loss: 280.8605 - accuracy: 0.0000e+00 - val_loss: 305.1512 - val_accuracy: 0.0000e+00\n",
      "Epoch 2/20\n",
      "19/19 [==============================] - 0s 3ms/step - loss: 278.9410 - accuracy: 0.0000e+00 - val_loss: 302.8116 - val_accuracy: 0.0000e+00\n",
      "Epoch 3/20\n",
      "19/19 [==============================] - 0s 3ms/step - loss: 276.1984 - accuracy: 0.0000e+00 - val_loss: 299.1490 - val_accuracy: 0.0000e+00\n",
      "Epoch 4/20\n",
      "19/19 [==============================] - 0s 3ms/step - loss: 271.6507 - accuracy: 0.0000e+00 - val_loss: 292.5057 - val_accuracy: 0.0000e+00\n",
      "Epoch 5/20\n",
      "19/19 [==============================] - 0s 3ms/step - loss: 261.7198 - accuracy: 0.0338 - val_loss: 273.7503 - val_accuracy: 0.0471\n",
      "Epoch 6/20\n",
      "19/19 [==============================] - 0s 3ms/step - loss: 212.2216 - accuracy: 0.0338 - val_loss: 155.2225 - val_accuracy: 0.0471\n",
      "Epoch 7/20\n",
      "19/19 [==============================] - 0s 3ms/step - loss: 102.4805 - accuracy: 0.0338 - val_loss: 74.5457 - val_accuracy: 0.0471\n",
      "Epoch 8/20\n",
      "19/19 [==============================] - 0s 3ms/step - loss: 50.8889 - accuracy: 0.0338 - val_loss: 39.0196 - val_accuracy: 0.0471\n",
      "Epoch 9/20\n",
      "19/19 [==============================] - 0s 3ms/step - loss: 25.6625 - accuracy: 0.0338 - val_loss: 21.1106 - val_accuracy: 0.0471\n",
      "Epoch 10/20\n",
      "19/19 [==============================] - 0s 3ms/step - loss: 16.0430 - accuracy: 0.0338 - val_loss: 16.6914 - val_accuracy: 0.0471\n",
      "Epoch 11/20\n",
      "19/19 [==============================] - 0s 3ms/step - loss: 13.4491 - accuracy: 0.0338 - val_loss: 16.2710 - val_accuracy: 0.0471\n",
      "Epoch 12/20\n",
      "19/19 [==============================] - 0s 3ms/step - loss: 12.8512 - accuracy: 0.0338 - val_loss: 14.6973 - val_accuracy: 0.0471\n",
      "Epoch 13/20\n",
      "19/19 [==============================] - 0s 3ms/step - loss: 10.8979 - accuracy: 0.0338 - val_loss: 14.3964 - val_accuracy: 0.0471\n",
      "Epoch 14/20\n",
      "19/19 [==============================] - 0s 3ms/step - loss: 10.5273 - accuracy: 0.0338 - val_loss: 12.9194 - val_accuracy: 0.0471\n",
      "Epoch 15/20\n",
      "19/19 [==============================] - 0s 3ms/step - loss: 9.9381 - accuracy: 0.0338 - val_loss: 12.8176 - val_accuracy: 0.0471\n",
      "Epoch 16/20\n",
      "19/19 [==============================] - 0s 3ms/step - loss: 9.9484 - accuracy: 0.0338 - val_loss: 12.7151 - val_accuracy: 0.0471\n",
      "Epoch 17/20\n",
      "19/19 [==============================] - 0s 4ms/step - loss: 9.3115 - accuracy: 0.0338 - val_loss: 12.5055 - val_accuracy: 0.0471\n",
      "Epoch 18/20\n",
      "19/19 [==============================] - 0s 3ms/step - loss: 9.1171 - accuracy: 0.0338 - val_loss: 11.7132 - val_accuracy: 0.0471\n",
      "Epoch 19/20\n",
      "19/19 [==============================] - 0s 3ms/step - loss: 8.8780 - accuracy: 0.0338 - val_loss: 11.5556 - val_accuracy: 0.0471\n",
      "Epoch 20/20\n",
      "19/19 [==============================] - 0s 3ms/step - loss: 8.6654 - accuracy: 0.0338 - val_loss: 11.4384 - val_accuracy: 0.0471\n"
     ]
    }
   ],
   "source": [
    "histo8=model8.fit(xmod8_train,ymod_train,epochs=20,validation_data=(xmod8_test,ymod_test))"
   ]
  },
  {
   "cell_type": "code",
   "execution_count": 56,
   "metadata": {},
   "outputs": [
    {
     "data": {
      "text/plain": [
       "[<matplotlib.lines.Line2D at 0x1f7240396c0>]"
      ]
     },
     "execution_count": 56,
     "metadata": {},
     "output_type": "execute_result"
    },
    {
     "data": {
      "image/png": "[encoded data removed]",
      "text/plain": [
       "<Figure size 432x288 with 1 Axes>"
      ]
     },
     "metadata": {
      "needs_background": "light"
     },
     "output_type": "display_data"
    }
   ],
   "source": [
    "plt.plot(histo8.history['loss'])\n",
    "plt.plot(histo8.history['val_loss'])"
   ]
  },
  {
   "cell_type": "code",
   "execution_count": 58,
   "metadata": {},
   "outputs": [
    {
     "name": "stdout",
     "output_type": "stream",
     "text": [
      "1/1 [==============================] - 0s 19ms/step\n"
     ]
    },
    {
     "data": {
      "text/plain": [
       "array([[15.12937  ],\n",
       "       [17.847494 ],\n",
       "       [ 5.8829994]], dtype=float32)"
      ]
     },
     "execution_count": 58,
     "metadata": {},
     "output_type": "execute_result"
    }
   ],
   "source": [
    "model8.predict(xmod8_test[:3])"
   ]
  },
  {
   "cell_type": "code",
   "execution_count": 49,
   "metadata": {},
   "outputs": [
    {
     "data": {
      "text/plain": [
       "array([16., 18.,  7.], dtype=float32)"
      ]
     },
     "execution_count": 49,
     "metadata": {},
     "output_type": "execute_result"
    }
   ],
   "source": [
    "ymod_test[:3]"
   ]
  }
 ],
 "metadata": {
  "celltoolbar": "Raw Cell Format",
  "kernelspec": {
   "display_name": "Python 3 (ipykernel)",
   "language": "python",
   "name": "python3"
  },
  "language_info": {
   "codemirror_mode": {
    "name": "ipython",
    "version": 3
   },
   "file_extension": ".py",
   "mimetype": "text/x-python",
   "name": "python",
   "nbconvert_exporter": "python",
   "pygments_lexer": "ipython3",
   "version": "3.10.6"
  }
 },
 "nbformat": 4,
 "nbformat_minor": 2
}
